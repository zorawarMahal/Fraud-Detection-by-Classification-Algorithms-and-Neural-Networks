{
  "cells": [
    {
      "cell_type": "markdown",
      "metadata": {
        "id": "B7zHYyDWhW4Z"
      },
      "source": [
        "## EDA and Fraud Detection"
      ]
    },
    {
      "cell_type": "markdown",
      "metadata": {
        "id": "jPL2ESd9hW4k"
      },
      "source": [
        "### Problem Formulation\n",
        "Due to the private nature of financial data, there is a lack of publicly available datasets that can be used for analysis. In this project, a synthetic dataset, publicly available on Kaggle, generated using a simulator called PaySim is used. The dataset was generated using aggregated metrics from the private dataset of a multinational mobile financial services company.\n",
        "\n",
        "There are 6362620 transactions, The data set has 11 attributes which include is\n",
        "\n",
        "- Type of transactions\n",
        "- Amount transacted\n",
        "- Customer ID and Recipient ID\n",
        "- Old and New balance of Customer and Recipient\n",
        "- Time step of the transaction\n",
        "- Whether the transaction was fraudulent or not"
      ]
    },
    {
      "cell_type": "markdown",
      "metadata": {
        "id": "SPxmM0ykhW4m"
      },
      "source": [
        "### Methodology\n",
        "\n",
        "- **General Overview:** Have a General Overview of the data\n",
        "- **EDA:** Perform Exploratory Data Analysis(EDA) to gain more clear insights of the data\n",
        "- **Data Preprocessing:** With the information gained after performing EDA, Preprocess the Data accordingly\n",
        "- **Model Building:** Once the data is properly cleaned and preprocessed, use this data to build a Machine Learning\n",
        "- **Model Performance:** Assess the Performance of the Model on the Testing data set\n",
        "- **Predictions:** Make Predictions on the Testing data set"
      ]
    },
    {
      "cell_type": "markdown",
      "metadata": {
        "id": "BILnjK3qhW4o"
      },
      "source": [
        "#### Importing required libraries"
      ]
    },
    {
      "cell_type": "code",
      "execution_count": null,
      "metadata": {
        "execution": {
          "iopub.execute_input": "2022-09-11T12:49:15.910965Z",
          "iopub.status.busy": "2022-09-11T12:49:15.910516Z",
          "iopub.status.idle": "2022-09-11T12:49:15.923667Z",
          "shell.execute_reply": "2022-09-11T12:49:15.922761Z",
          "shell.execute_reply.started": "2022-09-11T12:49:15.910928Z"
        },
        "trusted": true,
        "id": "HH3RI06rhW4p"
      },
      "outputs": [],
      "source": [
        "import numpy as np\n",
        "import pandas as pd\n",
        "\n",
        "import matplotlib.pyplot as plt\n",
        "%matplotlib inline\n",
        "import seaborn as sns\n",
        "sns.set(palette=\"Set2\")\n",
        "from sklearn.svm import SVC\n",
        "from sklearn.model_selection import train_test_split\n",
        "from sklearn.metrics import (accuracy_score, f1_score,average_precision_score, confusion_matrix,\n",
        "                             average_precision_score, precision_score, recall_score, roc_auc_score, classification_report, roc_curve,auc )\n",
        "from sklearn.model_selection import GridSearchCV\n",
        "from sklearn.naive_bayes import BernoulliNB, MultinomialNB\n",
        "from sklearn.ensemble import RandomForestClassifier\n",
        "from sklearn.preprocessing import LabelEncoder, MinMaxScaler, StandardScaler\n",
        "\n",
        "\n",
        "from xgboost import XGBClassifier, plot_importance\n",
        "\n",
        "import warnings\n",
        "warnings.filterwarnings(\"ignore\")"
      ]
    },
    {
      "cell_type": "markdown",
      "metadata": {
        "id": "5chEZuMFhW4u"
      },
      "source": [
        "#### Loading Dataset"
      ]
    },
    {
      "cell_type": "code",
      "source": [
        "from google.colab import drive\n",
        "drive.mount(\"/content/drive\")"
      ],
      "metadata": {
        "colab": {
          "base_uri": "https://localhost:8080/"
        },
        "id": "Hc71DWSLlHV8",
        "outputId": "b80f3315-4962-4909-dda2-fd794cff75db"
      },
      "execution_count": null,
      "outputs": [
        {
          "output_type": "stream",
          "name": "stdout",
          "text": [
            "Mounted at /content/drive\n"
          ]
        }
      ]
    },
    {
      "cell_type": "code",
      "execution_count": null,
      "metadata": {
        "execution": {
          "iopub.execute_input": "2022-09-11T12:49:15.926299Z",
          "iopub.status.busy": "2022-09-11T12:49:15.925115Z",
          "iopub.status.idle": "2022-09-11T12:49:29.348530Z",
          "shell.execute_reply": "2022-09-11T12:49:29.347134Z",
          "shell.execute_reply.started": "2022-09-11T12:49:15.926260Z"
        },
        "trusted": true,
        "id": "p9juNOlvhW4w"
      },
      "outputs": [],
      "source": [
        "data=pd.read_csv('/content/drive/MyDrive/PS_log.csv')"
      ]
    },
    {
      "cell_type": "markdown",
      "metadata": {
        "id": "L5rGw-kahW4x"
      },
      "source": [
        "#### Viewing Dataframe"
      ]
    },
    {
      "cell_type": "code",
      "execution_count": null,
      "metadata": {
        "execution": {
          "iopub.execute_input": "2022-09-11T12:49:29.351418Z",
          "iopub.status.busy": "2022-09-11T12:49:29.351049Z",
          "iopub.status.idle": "2022-09-11T12:49:29.368989Z",
          "shell.execute_reply": "2022-09-11T12:49:29.367796Z",
          "shell.execute_reply.started": "2022-09-11T12:49:29.351387Z"
        },
        "trusted": true,
        "colab": {
          "base_uri": "https://localhost:8080/",
          "height": 206
        },
        "id": "TTOhZe89hW4y",
        "outputId": "d02f1a88-5695-4264-c0f6-bc2b9e3361b9"
      },
      "outputs": [
        {
          "output_type": "execute_result",
          "data": {
            "text/plain": [
              "         step      type      amount     nameOrig  oldbalanceOrg  \\\n",
              "6362615   743  CASH_OUT   339682.13   C786484425      339682.13   \n",
              "6362616   743  TRANSFER  6311409.28  C1529008245     6311409.28   \n",
              "6362617   743  CASH_OUT  6311409.28  C1162922333     6311409.28   \n",
              "6362618   743  TRANSFER   850002.52  C1685995037      850002.52   \n",
              "6362619   743  CASH_OUT   850002.52  C1280323807      850002.52   \n",
              "\n",
              "         newbalanceOrig     nameDest  oldbalanceDest  newbalanceDest  isFraud  \\\n",
              "6362615             0.0   C776919290            0.00       339682.13        1   \n",
              "6362616             0.0  C1881841831            0.00            0.00        1   \n",
              "6362617             0.0  C1365125890        68488.84      6379898.11        1   \n",
              "6362618             0.0  C2080388513            0.00            0.00        1   \n",
              "6362619             0.0   C873221189      6510099.11      7360101.63        1   \n",
              "\n",
              "         isFlaggedFraud  \n",
              "6362615               0  \n",
              "6362616               0  \n",
              "6362617               0  \n",
              "6362618               0  \n",
              "6362619               0  "
            ],
            "text/html": [
              "\n",
              "  <div id=\"df-d9cf7448-00b3-4031-8dfc-4b14c3e1c382\">\n",
              "    <div class=\"colab-df-container\">\n",
              "      <div>\n",
              "<style scoped>\n",
              "    .dataframe tbody tr th:only-of-type {\n",
              "        vertical-align: middle;\n",
              "    }\n",
              "\n",
              "    .dataframe tbody tr th {\n",
              "        vertical-align: top;\n",
              "    }\n",
              "\n",
              "    .dataframe thead th {\n",
              "        text-align: right;\n",
              "    }\n",
              "</style>\n",
              "<table border=\"1\" class=\"dataframe\">\n",
              "  <thead>\n",
              "    <tr style=\"text-align: right;\">\n",
              "      <th></th>\n",
              "      <th>step</th>\n",
              "      <th>type</th>\n",
              "      <th>amount</th>\n",
              "      <th>nameOrig</th>\n",
              "      <th>oldbalanceOrg</th>\n",
              "      <th>newbalanceOrig</th>\n",
              "      <th>nameDest</th>\n",
              "      <th>oldbalanceDest</th>\n",
              "      <th>newbalanceDest</th>\n",
              "      <th>isFraud</th>\n",
              "      <th>isFlaggedFraud</th>\n",
              "    </tr>\n",
              "  </thead>\n",
              "  <tbody>\n",
              "    <tr>\n",
              "      <th>6362615</th>\n",
              "      <td>743</td>\n",
              "      <td>CASH_OUT</td>\n",
              "      <td>339682.13</td>\n",
              "      <td>C786484425</td>\n",
              "      <td>339682.13</td>\n",
              "      <td>0.0</td>\n",
              "      <td>C776919290</td>\n",
              "      <td>0.00</td>\n",
              "      <td>339682.13</td>\n",
              "      <td>1</td>\n",
              "      <td>0</td>\n",
              "    </tr>\n",
              "    <tr>\n",
              "      <th>6362616</th>\n",
              "      <td>743</td>\n",
              "      <td>TRANSFER</td>\n",
              "      <td>6311409.28</td>\n",
              "      <td>C1529008245</td>\n",
              "      <td>6311409.28</td>\n",
              "      <td>0.0</td>\n",
              "      <td>C1881841831</td>\n",
              "      <td>0.00</td>\n",
              "      <td>0.00</td>\n",
              "      <td>1</td>\n",
              "      <td>0</td>\n",
              "    </tr>\n",
              "    <tr>\n",
              "      <th>6362617</th>\n",
              "      <td>743</td>\n",
              "      <td>CASH_OUT</td>\n",
              "      <td>6311409.28</td>\n",
              "      <td>C1162922333</td>\n",
              "      <td>6311409.28</td>\n",
              "      <td>0.0</td>\n",
              "      <td>C1365125890</td>\n",
              "      <td>68488.84</td>\n",
              "      <td>6379898.11</td>\n",
              "      <td>1</td>\n",
              "      <td>0</td>\n",
              "    </tr>\n",
              "    <tr>\n",
              "      <th>6362618</th>\n",
              "      <td>743</td>\n",
              "      <td>TRANSFER</td>\n",
              "      <td>850002.52</td>\n",
              "      <td>C1685995037</td>\n",
              "      <td>850002.52</td>\n",
              "      <td>0.0</td>\n",
              "      <td>C2080388513</td>\n",
              "      <td>0.00</td>\n",
              "      <td>0.00</td>\n",
              "      <td>1</td>\n",
              "      <td>0</td>\n",
              "    </tr>\n",
              "    <tr>\n",
              "      <th>6362619</th>\n",
              "      <td>743</td>\n",
              "      <td>CASH_OUT</td>\n",
              "      <td>850002.52</td>\n",
              "      <td>C1280323807</td>\n",
              "      <td>850002.52</td>\n",
              "      <td>0.0</td>\n",
              "      <td>C873221189</td>\n",
              "      <td>6510099.11</td>\n",
              "      <td>7360101.63</td>\n",
              "      <td>1</td>\n",
              "      <td>0</td>\n",
              "    </tr>\n",
              "  </tbody>\n",
              "</table>\n",
              "</div>\n",
              "      <button class=\"colab-df-convert\" onclick=\"convertToInteractive('df-d9cf7448-00b3-4031-8dfc-4b14c3e1c382')\"\n",
              "              title=\"Convert this dataframe to an interactive table.\"\n",
              "              style=\"display:none;\">\n",
              "        \n",
              "  <svg xmlns=\"http://www.w3.org/2000/svg\" height=\"24px\"viewBox=\"0 0 24 24\"\n",
              "       width=\"24px\">\n",
              "    <path d=\"M0 0h24v24H0V0z\" fill=\"none\"/>\n",
              "    <path d=\"M18.56 5.44l.94 2.06.94-2.06 2.06-.94-2.06-.94-.94-2.06-.94 2.06-2.06.94zm-11 1L8.5 8.5l.94-2.06 2.06-.94-2.06-.94L8.5 2.5l-.94 2.06-2.06.94zm10 10l.94 2.06.94-2.06 2.06-.94-2.06-.94-.94-2.06-.94 2.06-2.06.94z\"/><path d=\"M17.41 7.96l-1.37-1.37c-.4-.4-.92-.59-1.43-.59-.52 0-1.04.2-1.43.59L10.3 9.45l-7.72 7.72c-.78.78-.78 2.05 0 2.83L4 21.41c.39.39.9.59 1.41.59.51 0 1.02-.2 1.41-.59l7.78-7.78 2.81-2.81c.8-.78.8-2.07 0-2.86zM5.41 20L4 18.59l7.72-7.72 1.47 1.35L5.41 20z\"/>\n",
              "  </svg>\n",
              "      </button>\n",
              "      \n",
              "  <style>\n",
              "    .colab-df-container {\n",
              "      display:flex;\n",
              "      flex-wrap:wrap;\n",
              "      gap: 12px;\n",
              "    }\n",
              "\n",
              "    .colab-df-convert {\n",
              "      background-color: #E8F0FE;\n",
              "      border: none;\n",
              "      border-radius: 50%;\n",
              "      cursor: pointer;\n",
              "      display: none;\n",
              "      fill: #1967D2;\n",
              "      height: 32px;\n",
              "      padding: 0 0 0 0;\n",
              "      width: 32px;\n",
              "    }\n",
              "\n",
              "    .colab-df-convert:hover {\n",
              "      background-color: #E2EBFA;\n",
              "      box-shadow: 0px 1px 2px rgba(60, 64, 67, 0.3), 0px 1px 3px 1px rgba(60, 64, 67, 0.15);\n",
              "      fill: #174EA6;\n",
              "    }\n",
              "\n",
              "    [theme=dark] .colab-df-convert {\n",
              "      background-color: #3B4455;\n",
              "      fill: #D2E3FC;\n",
              "    }\n",
              "\n",
              "    [theme=dark] .colab-df-convert:hover {\n",
              "      background-color: #434B5C;\n",
              "      box-shadow: 0px 1px 3px 1px rgba(0, 0, 0, 0.15);\n",
              "      filter: drop-shadow(0px 1px 2px rgba(0, 0, 0, 0.3));\n",
              "      fill: #FFFFFF;\n",
              "    }\n",
              "  </style>\n",
              "\n",
              "      <script>\n",
              "        const buttonEl =\n",
              "          document.querySelector('#df-d9cf7448-00b3-4031-8dfc-4b14c3e1c382 button.colab-df-convert');\n",
              "        buttonEl.style.display =\n",
              "          google.colab.kernel.accessAllowed ? 'block' : 'none';\n",
              "\n",
              "        async function convertToInteractive(key) {\n",
              "          const element = document.querySelector('#df-d9cf7448-00b3-4031-8dfc-4b14c3e1c382');\n",
              "          const dataTable =\n",
              "            await google.colab.kernel.invokeFunction('convertToInteractive',\n",
              "                                                     [key], {});\n",
              "          if (!dataTable) return;\n",
              "\n",
              "          const docLinkHtml = 'Like what you see? Visit the ' +\n",
              "            '<a target=\"_blank\" href=https://colab.research.google.com/notebooks/data_table.ipynb>data table notebook</a>'\n",
              "            + ' to learn more about interactive tables.';\n",
              "          element.innerHTML = '';\n",
              "          dataTable['output_type'] = 'display_data';\n",
              "          await google.colab.output.renderOutput(dataTable, element);\n",
              "          const docLink = document.createElement('div');\n",
              "          docLink.innerHTML = docLinkHtml;\n",
              "          element.appendChild(docLink);\n",
              "        }\n",
              "      </script>\n",
              "    </div>\n",
              "  </div>\n",
              "  "
            ]
          },
          "metadata": {},
          "execution_count": 8
        }
      ],
      "source": [
        "data.tail()"
      ]
    },
    {
      "cell_type": "markdown",
      "metadata": {
        "id": "AFB6kzBHhW40"
      },
      "source": [
        "#### Checking count of Fraud and Non-Fraud Transactions"
      ]
    },
    {
      "cell_type": "code",
      "execution_count": null,
      "metadata": {
        "execution": {
          "iopub.execute_input": "2022-09-11T12:49:29.370587Z",
          "iopub.status.busy": "2022-09-11T12:49:29.370258Z",
          "iopub.status.idle": "2022-09-11T12:49:29.436181Z",
          "shell.execute_reply": "2022-09-11T12:49:29.435028Z",
          "shell.execute_reply.started": "2022-09-11T12:49:29.370558Z"
        },
        "trusted": true,
        "colab": {
          "base_uri": "https://localhost:8080/"
        },
        "id": "XHfaA3cEhW40",
        "outputId": "9edd17b4-f7e2-4629-fede-eeb128e5a2d6"
      },
      "outputs": [
        {
          "output_type": "execute_result",
          "data": {
            "text/plain": [
              "0    6362604\n",
              "1         16\n",
              "Name: isFlaggedFraud, dtype: int64"
            ]
          },
          "metadata": {},
          "execution_count": 9
        }
      ],
      "source": [
        "data['isFlaggedFraud'].value_counts()"
      ]
    },
    {
      "cell_type": "code",
      "execution_count": null,
      "metadata": {
        "execution": {
          "iopub.execute_input": "2022-09-11T12:49:29.439761Z",
          "iopub.status.busy": "2022-09-11T12:49:29.438937Z",
          "iopub.status.idle": "2022-09-11T12:49:29.502290Z",
          "shell.execute_reply": "2022-09-11T12:49:29.501093Z",
          "shell.execute_reply.started": "2022-09-11T12:49:29.439700Z"
        },
        "scrolled": true,
        "trusted": true,
        "colab": {
          "base_uri": "https://localhost:8080/"
        },
        "id": "VGbgqFZUhW41",
        "outputId": "e76588e3-9be9-49e8-b100-32bdf7d0cc98"
      },
      "outputs": [
        {
          "output_type": "execute_result",
          "data": {
            "text/plain": [
              "0    6354407\n",
              "1       8213\n",
              "Name: isFraud, dtype: int64"
            ]
          },
          "metadata": {},
          "execution_count": 10
        }
      ],
      "source": [
        "data['isFraud'].value_counts()"
      ]
    },
    {
      "cell_type": "markdown",
      "metadata": {
        "id": "czb5x015hW42"
      },
      "source": [
        "#### Checking for Null values in dataset"
      ]
    },
    {
      "cell_type": "code",
      "execution_count": null,
      "metadata": {
        "execution": {
          "iopub.execute_input": "2022-09-11T12:49:29.504189Z",
          "iopub.status.busy": "2022-09-11T12:49:29.503824Z",
          "iopub.status.idle": "2022-09-11T12:49:30.420628Z",
          "shell.execute_reply": "2022-09-11T12:49:30.419204Z",
          "shell.execute_reply.started": "2022-09-11T12:49:29.504157Z"
        },
        "trusted": true,
        "colab": {
          "base_uri": "https://localhost:8080/"
        },
        "id": "OWPYFYdrhW43",
        "outputId": "83a9095c-8f7a-4d61-eb4b-6defa4abb8c0"
      },
      "outputs": [
        {
          "output_type": "execute_result",
          "data": {
            "text/plain": [
              "step              0\n",
              "type              0\n",
              "amount            0\n",
              "nameOrig          0\n",
              "oldbalanceOrg     0\n",
              "newbalanceOrig    0\n",
              "nameDest          0\n",
              "oldbalanceDest    0\n",
              "newbalanceDest    0\n",
              "isFraud           0\n",
              "isFlaggedFraud    0\n",
              "dtype: int64"
            ]
          },
          "metadata": {},
          "execution_count": 11
        }
      ],
      "source": [
        "data.isnull().sum()"
      ]
    },
    {
      "cell_type": "markdown",
      "metadata": {
        "id": "g7a-RbVkhW44"
      },
      "source": [
        "#### There are no null values in the data"
      ]
    },
    {
      "cell_type": "code",
      "execution_count": null,
      "metadata": {
        "execution": {
          "iopub.execute_input": "2022-09-11T12:49:30.422195Z",
          "iopub.status.busy": "2022-09-11T12:49:30.421879Z",
          "iopub.status.idle": "2022-09-11T12:49:49.124000Z",
          "shell.execute_reply": "2022-09-11T12:49:49.122813Z",
          "shell.execute_reply.started": "2022-09-11T12:49:30.422166Z"
        },
        "trusted": true,
        "colab": {
          "base_uri": "https://localhost:8080/"
        },
        "id": "9q-yJDHbhW44",
        "outputId": "c30a143f-60bd-41d3-f1b3-e65845eaccec"
      },
      "outputs": [
        {
          "output_type": "execute_result",
          "data": {
            "text/plain": [
              "0"
            ]
          },
          "metadata": {},
          "execution_count": 12
        }
      ],
      "source": [
        "data.duplicated().sum()"
      ]
    },
    {
      "cell_type": "markdown",
      "metadata": {
        "id": "PpX8q8WQhW44"
      },
      "source": [
        "#### There are no duplicate values in the data"
      ]
    },
    {
      "cell_type": "code",
      "execution_count": null,
      "metadata": {
        "execution": {
          "iopub.execute_input": "2022-09-11T12:49:49.125944Z",
          "iopub.status.busy": "2022-09-11T12:49:49.125552Z",
          "iopub.status.idle": "2022-09-11T12:49:49.132465Z",
          "shell.execute_reply": "2022-09-11T12:49:49.131182Z",
          "shell.execute_reply.started": "2022-09-11T12:49:49.125909Z"
        },
        "trusted": true,
        "colab": {
          "base_uri": "https://localhost:8080/"
        },
        "id": "vVRWTrE9hW45",
        "outputId": "40fe8e08-8f1a-4c9a-811d-42cc306cd350"
      },
      "outputs": [
        {
          "output_type": "stream",
          "name": "stdout",
          "text": [
            "['step', 'type', 'amount', 'nameOrig', 'oldbalanceOrg', 'newbalanceOrig', 'nameDest', 'oldbalanceDest', 'newbalanceDest', 'isFraud', 'isFlaggedFraud']\n",
            "The dataset has shape (6362620, 11)\n"
          ]
        }
      ],
      "source": [
        "print(list(data.columns))\n",
        "\n",
        "# shape of data\n",
        "print(f'The dataset has shape {data.shape}')"
      ]
    },
    {
      "cell_type": "markdown",
      "metadata": {
        "id": "DjDeLqYJhW45"
      },
      "source": [
        "#### Statistical Summary of the data"
      ]
    },
    {
      "cell_type": "code",
      "execution_count": null,
      "metadata": {
        "execution": {
          "iopub.execute_input": "2022-09-11T12:49:49.134473Z",
          "iopub.status.busy": "2022-09-11T12:49:49.134123Z",
          "iopub.status.idle": "2022-09-11T12:49:51.336600Z",
          "shell.execute_reply": "2022-09-11T12:49:51.335189Z",
          "shell.execute_reply.started": "2022-09-11T12:49:49.134442Z"
        },
        "trusted": true,
        "colab": {
          "base_uri": "https://localhost:8080/"
        },
        "id": "CbF7lIjShW46",
        "outputId": "16cdff17-d0b8-4a44-ff69-66798605c6be"
      },
      "outputs": [
        {
          "output_type": "execute_result",
          "data": {
            "text/plain": [
              "               step        amount  oldbalanceOrg  newbalanceOrig  \\\n",
              "count  6.362620e+06  6.362620e+06   6.362620e+06    6.362620e+06   \n",
              "mean   2.433972e+02  1.798619e+05   8.338831e+05    8.551137e+05   \n",
              "std    1.423320e+02  6.038582e+05   2.888243e+06    2.924049e+06   \n",
              "min    1.000000e+00  0.000000e+00   0.000000e+00    0.000000e+00   \n",
              "25%    1.560000e+02  1.338957e+04   0.000000e+00    0.000000e+00   \n",
              "50%    2.390000e+02  7.487194e+04   1.420800e+04    0.000000e+00   \n",
              "75%    3.350000e+02  2.087215e+05   1.073152e+05    1.442584e+05   \n",
              "max    7.430000e+02  9.244552e+07   5.958504e+07    4.958504e+07   \n",
              "\n",
              "       oldbalanceDest  newbalanceDest       isFraud  isFlaggedFraud  \n",
              "count    6.362620e+06    6.362620e+06  6.362620e+06    6.362620e+06  \n",
              "mean     1.100702e+06    1.224996e+06  1.290820e-03    2.514687e-06  \n",
              "std      3.399180e+06    3.674129e+06  3.590480e-02    1.585775e-03  \n",
              "min      0.000000e+00    0.000000e+00  0.000000e+00    0.000000e+00  \n",
              "25%      0.000000e+00    0.000000e+00  0.000000e+00    0.000000e+00  \n",
              "50%      1.327057e+05    2.146614e+05  0.000000e+00    0.000000e+00  \n",
              "75%      9.430367e+05    1.111909e+06  0.000000e+00    0.000000e+00  \n",
              "max      3.560159e+08    3.561793e+08  1.000000e+00    1.000000e+00  "
            ],
            "text/html": [
              "\n",
              "  <div id=\"df-7a9e98b8-f801-45dc-9390-7de6fcf711b6\">\n",
              "    <div class=\"colab-df-container\">\n",
              "      <div>\n",
              "<style scoped>\n",
              "    .dataframe tbody tr th:only-of-type {\n",
              "        vertical-align: middle;\n",
              "    }\n",
              "\n",
              "    .dataframe tbody tr th {\n",
              "        vertical-align: top;\n",
              "    }\n",
              "\n",
              "    .dataframe thead th {\n",
              "        text-align: right;\n",
              "    }\n",
              "</style>\n",
              "<table border=\"1\" class=\"dataframe\">\n",
              "  <thead>\n",
              "    <tr style=\"text-align: right;\">\n",
              "      <th></th>\n",
              "      <th>step</th>\n",
              "      <th>amount</th>\n",
              "      <th>oldbalanceOrg</th>\n",
              "      <th>newbalanceOrig</th>\n",
              "      <th>oldbalanceDest</th>\n",
              "      <th>newbalanceDest</th>\n",
              "      <th>isFraud</th>\n",
              "      <th>isFlaggedFraud</th>\n",
              "    </tr>\n",
              "  </thead>\n",
              "  <tbody>\n",
              "    <tr>\n",
              "      <th>count</th>\n",
              "      <td>6.362620e+06</td>\n",
              "      <td>6.362620e+06</td>\n",
              "      <td>6.362620e+06</td>\n",
              "      <td>6.362620e+06</td>\n",
              "      <td>6.362620e+06</td>\n",
              "      <td>6.362620e+06</td>\n",
              "      <td>6.362620e+06</td>\n",
              "      <td>6.362620e+06</td>\n",
              "    </tr>\n",
              "    <tr>\n",
              "      <th>mean</th>\n",
              "      <td>2.433972e+02</td>\n",
              "      <td>1.798619e+05</td>\n",
              "      <td>8.338831e+05</td>\n",
              "      <td>8.551137e+05</td>\n",
              "      <td>1.100702e+06</td>\n",
              "      <td>1.224996e+06</td>\n",
              "      <td>1.290820e-03</td>\n",
              "      <td>2.514687e-06</td>\n",
              "    </tr>\n",
              "    <tr>\n",
              "      <th>std</th>\n",
              "      <td>1.423320e+02</td>\n",
              "      <td>6.038582e+05</td>\n",
              "      <td>2.888243e+06</td>\n",
              "      <td>2.924049e+06</td>\n",
              "      <td>3.399180e+06</td>\n",
              "      <td>3.674129e+06</td>\n",
              "      <td>3.590480e-02</td>\n",
              "      <td>1.585775e-03</td>\n",
              "    </tr>\n",
              "    <tr>\n",
              "      <th>min</th>\n",
              "      <td>1.000000e+00</td>\n",
              "      <td>0.000000e+00</td>\n",
              "      <td>0.000000e+00</td>\n",
              "      <td>0.000000e+00</td>\n",
              "      <td>0.000000e+00</td>\n",
              "      <td>0.000000e+00</td>\n",
              "      <td>0.000000e+00</td>\n",
              "      <td>0.000000e+00</td>\n",
              "    </tr>\n",
              "    <tr>\n",
              "      <th>25%</th>\n",
              "      <td>1.560000e+02</td>\n",
              "      <td>1.338957e+04</td>\n",
              "      <td>0.000000e+00</td>\n",
              "      <td>0.000000e+00</td>\n",
              "      <td>0.000000e+00</td>\n",
              "      <td>0.000000e+00</td>\n",
              "      <td>0.000000e+00</td>\n",
              "      <td>0.000000e+00</td>\n",
              "    </tr>\n",
              "    <tr>\n",
              "      <th>50%</th>\n",
              "      <td>2.390000e+02</td>\n",
              "      <td>7.487194e+04</td>\n",
              "      <td>1.420800e+04</td>\n",
              "      <td>0.000000e+00</td>\n",
              "      <td>1.327057e+05</td>\n",
              "      <td>2.146614e+05</td>\n",
              "      <td>0.000000e+00</td>\n",
              "      <td>0.000000e+00</td>\n",
              "    </tr>\n",
              "    <tr>\n",
              "      <th>75%</th>\n",
              "      <td>3.350000e+02</td>\n",
              "      <td>2.087215e+05</td>\n",
              "      <td>1.073152e+05</td>\n",
              "      <td>1.442584e+05</td>\n",
              "      <td>9.430367e+05</td>\n",
              "      <td>1.111909e+06</td>\n",
              "      <td>0.000000e+00</td>\n",
              "      <td>0.000000e+00</td>\n",
              "    </tr>\n",
              "    <tr>\n",
              "      <th>max</th>\n",
              "      <td>7.430000e+02</td>\n",
              "      <td>9.244552e+07</td>\n",
              "      <td>5.958504e+07</td>\n",
              "      <td>4.958504e+07</td>\n",
              "      <td>3.560159e+08</td>\n",
              "      <td>3.561793e+08</td>\n",
              "      <td>1.000000e+00</td>\n",
              "      <td>1.000000e+00</td>\n",
              "    </tr>\n",
              "  </tbody>\n",
              "</table>\n",
              "</div>\n",
              "      <button class=\"colab-df-convert\" onclick=\"convertToInteractive('df-7a9e98b8-f801-45dc-9390-7de6fcf711b6')\"\n",
              "              title=\"Convert this dataframe to an interactive table.\"\n",
              "              style=\"display:none;\">\n",
              "        \n",
              "  <svg xmlns=\"http://www.w3.org/2000/svg\" height=\"24px\"viewBox=\"0 0 24 24\"\n",
              "       width=\"24px\">\n",
              "    <path d=\"M0 0h24v24H0V0z\" fill=\"none\"/>\n",
              "    <path d=\"M18.56 5.44l.94 2.06.94-2.06 2.06-.94-2.06-.94-.94-2.06-.94 2.06-2.06.94zm-11 1L8.5 8.5l.94-2.06 2.06-.94-2.06-.94L8.5 2.5l-.94 2.06-2.06.94zm10 10l.94 2.06.94-2.06 2.06-.94-2.06-.94-.94-2.06-.94 2.06-2.06.94z\"/><path d=\"M17.41 7.96l-1.37-1.37c-.4-.4-.92-.59-1.43-.59-.52 0-1.04.2-1.43.59L10.3 9.45l-7.72 7.72c-.78.78-.78 2.05 0 2.83L4 21.41c.39.39.9.59 1.41.59.51 0 1.02-.2 1.41-.59l7.78-7.78 2.81-2.81c.8-.78.8-2.07 0-2.86zM5.41 20L4 18.59l7.72-7.72 1.47 1.35L5.41 20z\"/>\n",
              "  </svg>\n",
              "      </button>\n",
              "      \n",
              "  <style>\n",
              "    .colab-df-container {\n",
              "      display:flex;\n",
              "      flex-wrap:wrap;\n",
              "      gap: 12px;\n",
              "    }\n",
              "\n",
              "    .colab-df-convert {\n",
              "      background-color: #E8F0FE;\n",
              "      border: none;\n",
              "      border-radius: 50%;\n",
              "      cursor: pointer;\n",
              "      display: none;\n",
              "      fill: #1967D2;\n",
              "      height: 32px;\n",
              "      padding: 0 0 0 0;\n",
              "      width: 32px;\n",
              "    }\n",
              "\n",
              "    .colab-df-convert:hover {\n",
              "      background-color: #E2EBFA;\n",
              "      box-shadow: 0px 1px 2px rgba(60, 64, 67, 0.3), 0px 1px 3px 1px rgba(60, 64, 67, 0.15);\n",
              "      fill: #174EA6;\n",
              "    }\n",
              "\n",
              "    [theme=dark] .colab-df-convert {\n",
              "      background-color: #3B4455;\n",
              "      fill: #D2E3FC;\n",
              "    }\n",
              "\n",
              "    [theme=dark] .colab-df-convert:hover {\n",
              "      background-color: #434B5C;\n",
              "      box-shadow: 0px 1px 3px 1px rgba(0, 0, 0, 0.15);\n",
              "      filter: drop-shadow(0px 1px 2px rgba(0, 0, 0, 0.3));\n",
              "      fill: #FFFFFF;\n",
              "    }\n",
              "  </style>\n",
              "\n",
              "      <script>\n",
              "        const buttonEl =\n",
              "          document.querySelector('#df-7a9e98b8-f801-45dc-9390-7de6fcf711b6 button.colab-df-convert');\n",
              "        buttonEl.style.display =\n",
              "          google.colab.kernel.accessAllowed ? 'block' : 'none';\n",
              "\n",
              "        async function convertToInteractive(key) {\n",
              "          const element = document.querySelector('#df-7a9e98b8-f801-45dc-9390-7de6fcf711b6');\n",
              "          const dataTable =\n",
              "            await google.colab.kernel.invokeFunction('convertToInteractive',\n",
              "                                                     [key], {});\n",
              "          if (!dataTable) return;\n",
              "\n",
              "          const docLinkHtml = 'Like what you see? Visit the ' +\n",
              "            '<a target=\"_blank\" href=https://colab.research.google.com/notebooks/data_table.ipynb>data table notebook</a>'\n",
              "            + ' to learn more about interactive tables.';\n",
              "          element.innerHTML = '';\n",
              "          dataTable['output_type'] = 'display_data';\n",
              "          await google.colab.output.renderOutput(dataTable, element);\n",
              "          const docLink = document.createElement('div');\n",
              "          docLink.innerHTML = docLinkHtml;\n",
              "          element.appendChild(docLink);\n",
              "        }\n",
              "      </script>\n",
              "    </div>\n",
              "  </div>\n",
              "  "
            ]
          },
          "metadata": {},
          "execution_count": 14
        }
      ],
      "source": [
        "data.describe()"
      ]
    },
    {
      "cell_type": "code",
      "execution_count": null,
      "metadata": {
        "execution": {
          "iopub.execute_input": "2022-09-11T12:49:51.339794Z",
          "iopub.status.busy": "2022-09-11T12:49:51.339390Z",
          "iopub.status.idle": "2022-09-11T12:49:51.357763Z",
          "shell.execute_reply": "2022-09-11T12:49:51.356802Z",
          "shell.execute_reply.started": "2022-09-11T12:49:51.339753Z"
        },
        "scrolled": true,
        "trusted": true,
        "colab": {
          "base_uri": "https://localhost:8080/"
        },
        "id": "u01epaBjhW46",
        "outputId": "9bcde9a4-3e52-48fc-cd56-6bc3fcf878d3"
      },
      "outputs": [
        {
          "output_type": "stream",
          "name": "stdout",
          "text": [
            "<class 'pandas.core.frame.DataFrame'>\n",
            "RangeIndex: 6362620 entries, 0 to 6362619\n",
            "Data columns (total 11 columns):\n",
            " #   Column          Dtype  \n",
            "---  ------          -----  \n",
            " 0   step            int64  \n",
            " 1   type            object \n",
            " 2   amount          float64\n",
            " 3   nameOrig        object \n",
            " 4   oldbalanceOrg   float64\n",
            " 5   newbalanceOrig  float64\n",
            " 6   nameDest        object \n",
            " 7   oldbalanceDest  float64\n",
            " 8   newbalanceDest  float64\n",
            " 9   isFraud         int64  \n",
            " 10  isFlaggedFraud  int64  \n",
            "dtypes: float64(5), int64(3), object(3)\n",
            "memory usage: 534.0+ MB\n"
          ]
        }
      ],
      "source": [
        "data.info()"
      ]
    },
    {
      "cell_type": "markdown",
      "metadata": {
        "id": "V3bzFr5jhW47"
      },
      "source": [
        "#### Proportion of type of Transactions"
      ]
    },
    {
      "cell_type": "code",
      "execution_count": null,
      "metadata": {
        "execution": {
          "iopub.execute_input": "2022-09-11T12:49:51.362673Z",
          "iopub.status.busy": "2022-09-11T12:49:51.362036Z",
          "iopub.status.idle": "2022-09-11T12:49:52.043651Z",
          "shell.execute_reply": "2022-09-11T12:49:52.041965Z",
          "shell.execute_reply.started": "2022-09-11T12:49:51.362618Z"
        },
        "trusted": true,
        "colab": {
          "base_uri": "https://localhost:8080/"
        },
        "id": "nPtu28e6hW47",
        "outputId": "ae4dc144-49b1-4099-b0b7-361ec75f20e4"
      },
      "outputs": [
        {
          "output_type": "display_data",
          "data": {
            "text/plain": [
              "<Figure size 576x576 with 1 Axes>"
            ],
            "image/png": "[encoded data removed]"
          },
          "metadata": {}
        }
      ],
      "source": [
        "type = data['type'].value_counts()\n",
        "transaction = type.index\n",
        "count = type.values\n",
        "\n",
        "# drawing piechart\n",
        "plt.figure(figsize=(8,8))\n",
        "plt.pie(count, labels=transaction, autopct='%1.0f%%')\n",
        "plt.legend(loc='upper left')\n",
        "plt.show()\n",
        "#cut so merch and merch to customer\n",
        "#merchent merchent cash in"
      ]
    },
    {
      "cell_type": "markdown",
      "metadata": {
        "id": "Mb2-6wgQhW48"
      },
      "source": [
        "#### Count of Fraud and Non-Fraud Transactions in each type of Transaction"
      ]
    },
    {
      "cell_type": "code",
      "execution_count": null,
      "metadata": {
        "execution": {
          "iopub.execute_input": "2022-09-11T12:49:52.046201Z",
          "iopub.status.busy": "2022-09-11T12:49:52.045812Z",
          "iopub.status.idle": "2022-09-11T12:49:57.648438Z",
          "shell.execute_reply": "2022-09-11T12:49:57.647166Z",
          "shell.execute_reply.started": "2022-09-11T12:49:52.046167Z"
        },
        "trusted": true,
        "colab": {
          "base_uri": "https://localhost:8080/"
        },
        "id": "X9Br03yJhW49",
        "outputId": "4abcdb8d-fa06-437e-9d0d-4dd212caf92f"
      },
      "outputs": [
        {
          "output_type": "display_data",
          "data": {
            "text/plain": [
              "<Figure size 864x576 with 1 Axes>"
            ],
            "image/png": "[encoded data removed]"
          },
          "metadata": {}
        }
      ],
      "source": [
        "plt.figure(figsize=(12,8))\n",
        "ax=sns.countplot(x = \"type\", hue=\"isFraud\", data = data)\n",
        "plt.title('Types of Transaction nonFraud and Fraud')\n",
        "for p in ax.patches:\n",
        "        ax.annotate('{:.1f}'.format(p.get_height()), (p.get_x()+0.1, p.get_height()+50))"
      ]
    },
    {
      "cell_type": "markdown",
      "metadata": {
        "id": "-3uc5GwfhW4-"
      },
      "source": [
        "* __Transaction types TRANSFER and CASH_OUT only have FRAUD Transactions.__\n",
        "* __DEBIT Transactions are only few and TRANSFER type Transactions are also less compared to other type of transactions.__\n",
        "* __No of Fraud transactions of TRANSFER type are very close to No of CASH_OUT FRAUD transactions. Probably modus operadi of FRAUD transactions is by transferring funds to a specific account and then CASHING OUT from those accounts. We will check this further.__"
      ]
    },
    {
      "cell_type": "code",
      "execution_count": null,
      "metadata": {
        "execution": {
          "iopub.execute_input": "2022-09-11T12:49:57.650218Z",
          "iopub.status.busy": "2022-09-11T12:49:57.649848Z",
          "iopub.status.idle": "2022-09-11T12:49:58.120824Z",
          "shell.execute_reply": "2022-09-11T12:49:58.119533Z",
          "shell.execute_reply.started": "2022-09-11T12:49:57.650185Z"
        },
        "trusted": true,
        "colab": {
          "base_uri": "https://localhost:8080/"
        },
        "id": "Vwo0RhrfhW4_",
        "outputId": "6bb0a20b-034c-43c7-f99a-b3345864adb8"
      },
      "outputs": [
        {
          "output_type": "execute_result",
          "data": {
            "text/plain": [
              "C553264065     1\n",
              "C988859148     1\n",
              "C1287650869    1\n",
              "C922180689     1\n",
              "C131895413     1\n",
              "              ..\n",
              "C776246900     1\n",
              "C1234144009    1\n",
              "C571016162     1\n",
              "C1381364691    1\n",
              "C2080388513    1\n",
              "Name: nameDest, Length: 4097, dtype: int64"
            ]
          },
          "metadata": {},
          "execution_count": 18
        }
      ],
      "source": [
        "data1=data[(data['isFraud']==1) & (data['type']=='TRANSFER')]\n",
        "data1['nameDest'].value_counts()"
      ]
    },
    {
      "cell_type": "code",
      "execution_count": null,
      "metadata": {
        "execution": {
          "iopub.execute_input": "2022-09-11T12:49:58.124125Z",
          "iopub.status.busy": "2022-09-11T12:49:58.123070Z",
          "iopub.status.idle": "2022-09-11T12:49:58.595639Z",
          "shell.execute_reply": "2022-09-11T12:49:58.594343Z",
          "shell.execute_reply.started": "2022-09-11T12:49:58.124087Z"
        },
        "trusted": true,
        "colab": {
          "base_uri": "https://localhost:8080/"
        },
        "id": "naDWggqFhW5A",
        "outputId": "aad35125-2d59-4ea8-abfc-19b5f44314a9"
      },
      "outputs": [
        {
          "output_type": "execute_result",
          "data": {
            "text/plain": [
              "C840083671     1\n",
              "C1055498407    1\n",
              "C1886113938    1\n",
              "C520336445     1\n",
              "C463684846     1\n",
              "              ..\n",
              "C1641368956    1\n",
              "C2120940829    1\n",
              "C992121519     1\n",
              "C1663597987    1\n",
              "C1280323807    1\n",
              "Name: nameOrig, Length: 4116, dtype: int64"
            ]
          },
          "metadata": {},
          "execution_count": 19
        }
      ],
      "source": [
        "data2=data[(data['isFraud']==1) & (data['type']=='CASH_OUT')]\n",
        "data2['nameOrig'].value_counts()"
      ]
    },
    {
      "cell_type": "markdown",
      "metadata": {
        "id": "LvIQ3X7bhW5B"
      },
      "source": [
        "There are no specific accounts from which fraud transactions are carried out . Hence we disregard our suspicioun.\n",
        "So these account name features are not useful for us in modelling as is."
      ]
    },
    {
      "cell_type": "markdown",
      "metadata": {
        "id": "f2fGFEUHhW5B"
      },
      "source": [
        "Let's check further"
      ]
    },
    {
      "cell_type": "code",
      "execution_count": null,
      "metadata": {
        "execution": {
          "iopub.execute_input": "2022-09-11T12:49:58.598076Z",
          "iopub.status.busy": "2022-09-11T12:49:58.597432Z",
          "iopub.status.idle": "2022-09-11T12:49:59.246204Z",
          "shell.execute_reply": "2022-09-11T12:49:59.245071Z",
          "shell.execute_reply.started": "2022-09-11T12:49:58.598043Z"
        },
        "trusted": true,
        "id": "TEjjNxGYhW5B"
      },
      "outputs": [],
      "source": [
        "fraud = data[data[\"isFraud\"] == 1]\n",
        "valid = data[data[\"isFraud\"] == 0]"
      ]
    },
    {
      "cell_type": "code",
      "execution_count": null,
      "metadata": {
        "execution": {
          "iopub.execute_input": "2022-09-11T12:49:59.248209Z",
          "iopub.status.busy": "2022-09-11T12:49:59.247683Z",
          "iopub.status.idle": "2022-09-11T12:49:59.262966Z",
          "shell.execute_reply": "2022-09-11T12:49:59.262112Z",
          "shell.execute_reply.started": "2022-09-11T12:49:59.248173Z"
        },
        "trusted": true,
        "colab": {
          "base_uri": "https://localhost:8080/"
        },
        "id": "4oM08WG0hW5B",
        "outputId": "1774efe9-c7e4-41cf-9471-2606246ab5ce"
      },
      "outputs": [
        {
          "output_type": "execute_result",
          "data": {
            "text/plain": [
              "False"
            ]
          },
          "metadata": {},
          "execution_count": 21
        }
      ],
      "source": [
        "fraud_transfer = fraud[fraud[\"type\"] == \"TRANSFER\"]\n",
        "fraud_cashout = fraud[fraud[\"type\"] == \"CASH_OUT\"]\n",
        "\n",
        "# checking if the recipient account of a fraudulent transfer was used as a sending account for cashing out \n",
        "fraud_transfer.nameDest.isin(fraud_cashout.nameOrig).any()"
      ]
    },
    {
      "cell_type": "markdown",
      "metadata": {
        "id": "rnQS_lWYhW5C"
      },
      "source": [
        "For fraudulent transactions, the account that received funds during a transfer was not used at all for cashing out."
      ]
    },
    {
      "cell_type": "markdown",
      "metadata": {
        "id": "saLvG04ZhW5C"
      },
      "source": [
        "We derive a new feature Transaction Type2 from these features account types \"C\" (customer) and \"M\" (merchant), which would be the first character for each value under nameOrig and nameDest."
      ]
    },
    {
      "cell_type": "markdown",
      "metadata": {
        "id": "tlJp99hLhW5D"
      },
      "source": [
        "We will create a categorical variable with levels \"CC\" (Customer to Customer), \"CM\" (Customer to Merchant), \"MC\" (Merchant to Customer), \"MM\" (Merchant to Merchant)."
      ]
    },
    {
      "cell_type": "code",
      "execution_count": null,
      "metadata": {
        "execution": {
          "iopub.execute_input": "2022-09-11T12:49:59.265036Z",
          "iopub.status.busy": "2022-09-11T12:49:59.264094Z",
          "iopub.status.idle": "2022-09-11T12:50:23.400218Z",
          "shell.execute_reply": "2022-09-11T12:50:23.398797Z",
          "shell.execute_reply.started": "2022-09-11T12:49:59.265005Z"
        },
        "trusted": true,
        "id": "bXpWktPShW5D"
      },
      "outputs": [],
      "source": [
        "# adding feature type1\n",
        "data_new = data.copy() # creating copy of dataset in case I need original dataset\n",
        "data_new[\"Type2\"] = np.nan # initializing feature column\n",
        "\n",
        "# filling feature column\n",
        "data_new.loc[data.nameOrig.str.contains('C') & data.nameDest.str.contains('C'),\"Type2\"] = \"CC\" \n",
        "data_new.loc[data.nameOrig.str.contains('C') & data.nameDest.str.contains('M'),\"Type2\"] = \"CM\"\n",
        "data_new.loc[data.nameOrig.str.contains('M') & data.nameDest.str.contains('C'),\"Type2\"] = \"MC\"\n",
        "data_new.loc[data.nameOrig.str.contains('M') & data.nameDest.str.contains('M'),\"Type2\"] = \"MM\""
      ]
    },
    {
      "cell_type": "markdown",
      "metadata": {
        "id": "OWXgizOGhW5D"
      },
      "source": [
        "### Plotting Pairplot"
      ]
    },
    {
      "cell_type": "markdown",
      "metadata": {
        "id": "ykMV34NNhW5E"
      },
      "source": [
        "### Visualizing Numeric variables against Fraud using Boxplots."
      ]
    },
    {
      "cell_type": "code",
      "execution_count": null,
      "metadata": {
        "execution": {
          "iopub.execute_input": "2022-09-11T12:50:23.402635Z",
          "iopub.status.busy": "2022-09-11T12:50:23.402014Z",
          "iopub.status.idle": "2022-09-11T12:50:36.016558Z",
          "shell.execute_reply": "2022-09-11T12:50:36.015024Z",
          "shell.execute_reply.started": "2022-09-11T12:50:23.402580Z"
        },
        "trusted": true,
        "colab": {
          "base_uri": "https://localhost:8080/"
        },
        "id": "YomgTNAwhW5E",
        "outputId": "ece87033-aa64-4d28-e1b1-1f356639c17c"
      },
      "outputs": [
        {
          "output_type": "execute_result",
          "data": {
            "text/plain": [
              "Text(0.5, 1.0, 'oldbalanceDest vs Fraud')"
            ]
          },
          "metadata": {},
          "execution_count": 23
        },
        {
          "output_type": "display_data",
          "data": {
            "text/plain": [
              "<Figure size 1800x1152 with 4 Axes>"
            ],
            "image/png": "[encoded data removed]"
          },
          "metadata": {}
        }
      ],
      "source": [
        "plt.figure(figsize=(25, 16))\n",
        "plt.subplot(2,2,1)\n",
        "sns.boxplot(x = 'isFraud', y = 'step', data = data_new)\n",
        "plt.title('step vs Fraud',fontweight=\"bold\", size=20)\n",
        "plt.subplot(2,2,2)\n",
        "sns.boxplot(x = 'isFraud', y = 'amount', data = data_new,palette=\"husl\")\n",
        "plt.title('amount vs Fraud',fontweight=\"bold\", size=20)\n",
        "plt.subplot(2,2,3)\n",
        "sns.boxplot(x = 'isFraud', y = 'oldbalanceOrg', data = data_new, palette= 'husl')\n",
        "plt.title('oldbalanceOrig vs Fraud',fontweight=\"bold\", size=20)\n",
        "plt.subplot(2,2,4)\n",
        "sns.boxplot(x = 'isFraud', y = 'oldbalanceDest', data = data_new,palette=\"bright\")\n",
        "plt.title('oldbalanceDest vs Fraud',fontweight=\"bold\", size=20)"
      ]
    },
    {
      "cell_type": "markdown",
      "metadata": {
        "id": "o51B5rb1hW5F"
      },
      "source": [
        "- Median amount for fraud transactions is greater than Non Fraud transactions.\n",
        "- Balance in Origin account in Fraud transactions before transaction is greater than Balance in Origin account of Non Fraud transactions."
      ]
    },
    {
      "cell_type": "code",
      "execution_count": null,
      "metadata": {
        "execution": {
          "iopub.execute_input": "2022-09-11T12:50:36.019852Z",
          "iopub.status.busy": "2022-09-11T12:50:36.018833Z",
          "iopub.status.idle": "2022-09-11T12:50:38.089151Z",
          "shell.execute_reply": "2022-09-11T12:50:38.088159Z",
          "shell.execute_reply.started": "2022-09-11T12:50:36.019802Z"
        },
        "trusted": true,
        "id": "4Q6jzR1LhW5F"
      },
      "outputs": [],
      "source": [
        "fraud = data_new[data_new[\"isFraud\"] == 1]\n",
        "valid = data_new[data_new[\"isFraud\"] == 0]"
      ]
    },
    {
      "cell_type": "code",
      "execution_count": null,
      "metadata": {
        "execution": {
          "iopub.execute_input": "2022-09-11T12:50:38.090799Z",
          "iopub.status.busy": "2022-09-11T12:50:38.090474Z",
          "iopub.status.idle": "2022-09-11T12:50:38.359969Z",
          "shell.execute_reply": "2022-09-11T12:50:38.358809Z",
          "shell.execute_reply.started": "2022-09-11T12:50:38.090768Z"
        },
        "trusted": true,
        "colab": {
          "base_uri": "https://localhost:8080/"
        },
        "id": "9u0TCOfmhW5G",
        "outputId": "b5e4b64a-44d7-4092-f928-74d87cc66e37"
      },
      "outputs": [
        {
          "output_type": "stream",
          "name": "stdout",
          "text": [
            "Fraud transactions by type1: \n",
            " CC    8213\n",
            "Name: Type2, dtype: int64\n",
            "\n",
            " Valid transactions by type1: \n",
            " CC    4202912\n",
            "CM    2151495\n",
            "Name: Type2, dtype: int64\n"
          ]
        }
      ],
      "source": [
        "print(\"Fraud transactions by type1: \\n\",fraud.Type2.value_counts())\n",
        "print(\"\\n Valid transactions by type1: \\n\",valid.Type2.value_counts())"
      ]
    },
    {
      "cell_type": "markdown",
      "metadata": {
        "id": "6itixx4ZhW5G"
      },
      "source": [
        "From the dataset, it seems that fraud transactions only occur when the transaction type1 is CC (Customer to Customer)."
      ]
    },
    {
      "cell_type": "markdown",
      "metadata": {
        "id": "UfdJLfknhW5H"
      },
      "source": [
        "### Looking balances before and after the transaction"
      ]
    },
    {
      "cell_type": "code",
      "execution_count": null,
      "metadata": {
        "execution": {
          "iopub.execute_input": "2022-09-11T12:50:38.362501Z",
          "iopub.status.busy": "2022-09-11T12:50:38.361770Z",
          "iopub.status.idle": "2022-09-11T12:50:39.703611Z",
          "shell.execute_reply": "2022-09-11T12:50:39.702762Z",
          "shell.execute_reply.started": "2022-09-11T12:50:38.362465Z"
        },
        "trusted": true,
        "colab": {
          "base_uri": "https://localhost:8080/"
        },
        "id": "d46UkDAjhW5H",
        "outputId": "53a7efaf-67da-47a8-e4eb-4ce6951dd7a0"
      },
      "outputs": [
        {
          "output_type": "stream",
          "name": "stdout",
          "text": [
            "Percentage of observations with balance errors in the account giving money:  85.0\n",
            "Percentage of observations with balance errors in the account receiving money:  100.0\n"
          ]
        }
      ],
      "source": [
        "wrong_orig_bal = sum(data[\"oldbalanceOrg\"] - data[\"amount\"] != data[\"newbalanceOrig\"])\n",
        "wrong_dest_bal = sum(data[\"newbalanceDest\"] + data[\"amount\"] != data[\"newbalanceDest\"])\n",
        "print(\"Percentage of observations with balance errors in the account giving money: \", 100*round(wrong_orig_bal/len(data),2))\n",
        "print(\"Percentage of observations with balance errors in the account receiving money: \", 100*round(wrong_dest_bal/len(data),2))"
      ]
    },
    {
      "cell_type": "markdown",
      "metadata": {
        "id": "v7-fsXRPhW5I"
      },
      "source": [
        "Most, if not all, of the observations have errors in calculating the balances before and after the transaction."
      ]
    },
    {
      "cell_type": "markdown",
      "metadata": {
        "id": "No-4_ywZhW5I"
      },
      "source": [
        "Since We don't know why these errors are caused, We cannot treat them."
      ]
    },
    {
      "cell_type": "markdown",
      "metadata": {
        "id": "_g20IKRMhW5I"
      },
      "source": [
        "We will not process them and use them as is for our modelling purpose."
      ]
    },
    {
      "cell_type": "markdown",
      "metadata": {
        "id": "IaLfQ_-PhW5J"
      },
      "source": [
        "### Looking at Time"
      ]
    },
    {
      "cell_type": "code",
      "execution_count": null,
      "metadata": {
        "execution": {
          "iopub.execute_input": "2022-09-11T12:50:39.705988Z",
          "iopub.status.busy": "2022-09-11T12:50:39.704973Z",
          "iopub.status.idle": "2022-09-11T12:50:40.667422Z",
          "shell.execute_reply": "2022-09-11T12:50:40.666636Z",
          "shell.execute_reply.started": "2022-09-11T12:50:39.705934Z"
        },
        "trusted": true,
        "colab": {
          "base_uri": "https://localhost:8080/"
        },
        "id": "fL-wHK-7hW5J",
        "outputId": "70d776b8-9149-45eb-b09a-981b87301182"
      },
      "outputs": [
        {
          "output_type": "display_data",
          "data": {
            "text/plain": [
              "<Figure size 432x288 with 1 Axes>"
            ],
            "image/png": "[encoded data removed]"
          },
          "metadata": {}
        },
        {
          "output_type": "display_data",
          "data": {
            "text/plain": [
              "<Figure size 432x288 with 1 Axes>"
            ],
            "image/png": "[encoded data removed]"
          },
          "metadata": {}
        }
      ],
      "source": [
        "bins = 50\n",
        "\n",
        "valid.hist(column=\"step\",color=\"green\",bins=bins)\n",
        "plt.xlabel(\"1 hour time step\")\n",
        "plt.ylabel(\"# of transactions\")\n",
        "plt.title(\"# of valid transactions over time\")\n",
        "\n",
        "fraud.hist(column =\"step\",color=\"red\",bins=bins)\n",
        "plt.xlabel(\"1 hour time step\")\n",
        "plt.ylabel(\"# of transactions\")\n",
        "plt.title(\"# of fraud transactions over time\")\n",
        "\n",
        "plt.tight_layout()\n",
        "plt.show()"
      ]
    },
    {
      "cell_type": "markdown",
      "metadata": {
        "id": "9192RqJNhW5K"
      },
      "source": [
        "- A large proportion of valid transactions occur between around the 0th and 60th timestep as well as the 110th and 410th time-steps.\n",
        "- The frequency at which fraudulent transactions occur does not seem to change much over time."
      ]
    },
    {
      "cell_type": "markdown",
      "metadata": {
        "id": "IexDpi-lhW5K"
      },
      "source": [
        "Let's see what the patterns look like over any particular, day of the week or hour of the day."
      ]
    },
    {
      "cell_type": "code",
      "execution_count": null,
      "metadata": {
        "execution": {
          "iopub.execute_input": "2022-09-11T12:50:40.669141Z",
          "iopub.status.busy": "2022-09-11T12:50:40.668645Z",
          "iopub.status.idle": "2022-09-11T12:50:41.517583Z",
          "shell.execute_reply": "2022-09-11T12:50:41.516249Z",
          "shell.execute_reply.started": "2022-09-11T12:50:40.669110Z"
        },
        "trusted": true,
        "colab": {
          "base_uri": "https://localhost:8080/"
        },
        "id": "8cm3epMUhW5K",
        "outputId": "8b9def95-60a6-487b-cef7-591100587176"
      },
      "outputs": [
        {
          "output_type": "display_data",
          "data": {
            "text/plain": [
              "<Figure size 432x288 with 2 Axes>"
            ],
            "image/png": "[encoded data removed]"
          },
          "metadata": {}
        }
      ],
      "source": [
        "num_days = 7\n",
        "num_hours = 24\n",
        "fraud_days = (fraud.step//num_hours)% num_days\n",
        "fraud_hours = fraud.step % num_hours\n",
        "valid_days = (valid.step//num_hours) % num_days\n",
        "valid_hours = valid.step % num_hours\n",
        "\n",
        "# plotting scatterplot of the days of the week, identifying the fraudulent transactions (red) from the valid transactions (green) \n",
        "plt.subplot(1, 2, 1)\n",
        "fraud_days.hist(bins=num_days,color=\"red\")\n",
        "plt.title('Fraud transactions by Day')\n",
        "plt.xlabel('Day of the Week')\n",
        "plt.ylabel(\"# of transactions\")\n",
        "\n",
        "plt.subplot(1,2,2)\n",
        "valid_days.hist(bins=num_days,color=\"green\")\n",
        "plt.title('Valid transactions by Day')\n",
        "plt.xlabel('Day of the Week')\n",
        "plt.ylabel(\"# of transactions\")\n",
        "\n",
        "plt.tight_layout()\n",
        "plt.show()"
      ]
    },
    {
      "cell_type": "markdown",
      "metadata": {
        "id": "SvwsKKWBhW5L"
      },
      "source": [
        "From the graphs above, there is little evidence to suggest that fraudulent transactions occur at particular days of the week.\n",
        "\n",
        "While valid transactions occur less on some two consecutive days of the week."
      ]
    },
    {
      "cell_type": "code",
      "execution_count": null,
      "metadata": {
        "execution": {
          "iopub.execute_input": "2022-09-11T12:50:41.520305Z",
          "iopub.status.busy": "2022-09-11T12:50:41.519733Z",
          "iopub.status.idle": "2022-09-11T12:50:42.363369Z",
          "shell.execute_reply": "2022-09-11T12:50:42.361351Z",
          "shell.execute_reply.started": "2022-09-11T12:50:41.520260Z"
        },
        "trusted": true,
        "colab": {
          "base_uri": "https://localhost:8080/"
        },
        "id": "fTu403I9hW5L",
        "outputId": "10380bdd-7bad-4899-c76f-3c30b3a892d0"
      },
      "outputs": [
        {
          "output_type": "display_data",
          "data": {
            "text/plain": [
              "<Figure size 432x288 with 2 Axes>"
            ],
            "image/png": "[encoded data removed]"
          },
          "metadata": {}
        }
      ],
      "source": [
        "plt.subplot(1, 2, 1)\n",
        "fraud_hours.hist(bins=num_hours, color=\"red\")\n",
        "plt.title('Fraud transactions by Hour')\n",
        "plt.xlabel('Hour of the Day')\n",
        "plt.ylabel(\"# of transactions\")\n",
        "\n",
        "\n",
        "plt.subplot(1, 2, 2)\n",
        "valid_hours.hist(bins=num_hours, color=\"green\")\n",
        "plt.title('Valid transactions by Hour')\n",
        "plt.xlabel('Hour of the Day')\n",
        "plt.ylabel(\"# of transactions\")\n",
        "\n",
        "plt.tight_layout()\n",
        "plt.show()"
      ]
    },
    {
      "cell_type": "markdown",
      "metadata": {
        "id": "hV13hSNGhW5M"
      },
      "source": [
        "We observe that from hour 0 to hour 9  valid transactions very seldom occur. On the other hand, fraudulent transactions still occur at similar rates to any hour of the day outside of hours 0 to 9 .\n",
        "\n",
        "In response to this, We1m will create another feature HourOfDay, which is the step column with each number taken to modulo 24."
      ]
    },
    {
      "cell_type": "code",
      "execution_count": null,
      "metadata": {
        "execution": {
          "iopub.execute_input": "2022-09-11T12:50:42.365091Z",
          "iopub.status.busy": "2022-09-11T12:50:42.364784Z",
          "iopub.status.idle": "2022-09-11T12:50:42.494542Z",
          "shell.execute_reply": "2022-09-11T12:50:42.493467Z",
          "shell.execute_reply.started": "2022-09-11T12:50:42.365063Z"
        },
        "trusted": true,
        "colab": {
          "base_uri": "https://localhost:8080/"
        },
        "id": "TZeKUXzOhW5N",
        "outputId": "2faa7bb4-acad-406f-ac90-75a5a9aafd04"
      },
      "outputs": [
        {
          "output_type": "stream",
          "name": "stdout",
          "text": [
            "Head of dataset1: \n",
            "    step      type    amount     nameOrig  oldbalanceOrg  newbalanceOrig  \\\n",
            "0     1   PAYMENT   9839.64  C1231006815       170136.0       160296.36   \n",
            "1     1   PAYMENT   1864.28  C1666544295        21249.0        19384.72   \n",
            "2     1  TRANSFER    181.00  C1305486145          181.0            0.00   \n",
            "3     1  CASH_OUT    181.00   C840083671          181.0            0.00   \n",
            "4     1   PAYMENT  11668.14  C2048537720        41554.0        29885.86   \n",
            "\n",
            "      nameDest  oldbalanceDest  newbalanceDest  isFraud  isFlaggedFraud Type2  \\\n",
            "0  M1979787155             0.0             0.0        0               0    CM   \n",
            "1  M2044282225             0.0             0.0        0               0    CM   \n",
            "2   C553264065             0.0             0.0        1               0    CC   \n",
            "3    C38997010         21182.0             0.0        1               0    CC   \n",
            "4  M1230701703             0.0             0.0        0               0    CM   \n",
            "\n",
            "   HourOfDay  \n",
            "0          1  \n",
            "1          1  \n",
            "2          1  \n",
            "3          1  \n",
            "4          1  \n"
          ]
        }
      ],
      "source": [
        "data_new[\"HourOfDay\"] = np.nan # initializing feature column\n",
        "data_new.HourOfDay = data_new.step % 24\n",
        "\n",
        "\n",
        "print(\"Head of dataset1: \\n\", pd.DataFrame.head(data_new))\n"
      ]
    },
    {
      "cell_type": "markdown",
      "metadata": {
        "id": "OQ9ZF7qohW5O"
      },
      "source": [
        "#### We will drop columns irrelevant for our modelling. These are isFlaggedFraud, nameOrig, nameDest columns."
      ]
    },
    {
      "cell_type": "code",
      "execution_count": null,
      "metadata": {
        "execution": {
          "iopub.execute_input": "2022-09-11T12:50:42.496128Z",
          "iopub.status.busy": "2022-09-11T12:50:42.495826Z",
          "iopub.status.idle": "2022-09-11T12:50:43.089982Z",
          "shell.execute_reply": "2022-09-11T12:50:43.088748Z",
          "shell.execute_reply.started": "2022-09-11T12:50:42.496099Z"
        },
        "trusted": true,
        "id": "XC6VDs0-hW5O"
      },
      "outputs": [],
      "source": [
        "data_new = data_new.drop([\"isFlaggedFraud\",'nameOrig','nameDest'],1)"
      ]
    },
    {
      "cell_type": "markdown",
      "metadata": {
        "id": "2IxvLPRThW5P"
      },
      "source": [
        "### Pairplot of Variables"
      ]
    },
    {
      "cell_type": "markdown",
      "metadata": {
        "id": "gG2Hqd_1hW5P"
      },
      "source": [
        "### Handling Categorical Variables"
      ]
    },
    {
      "cell_type": "code",
      "execution_count": null,
      "metadata": {
        "execution": {
          "iopub.execute_input": "2022-09-11T12:50:43.091552Z",
          "iopub.status.busy": "2022-09-11T12:50:43.091217Z",
          "iopub.status.idle": "2022-09-11T12:50:45.096127Z",
          "shell.execute_reply": "2022-09-11T12:50:45.095102Z",
          "shell.execute_reply.started": "2022-09-11T12:50:43.091521Z"
        },
        "trusted": true,
        "id": "b6SqJGu2hW5P"
      },
      "outputs": [],
      "source": [
        "data_new = pd.get_dummies(data_new,prefix=['type','Type2'],drop_first=True)"
      ]
    },
    {
      "cell_type": "markdown",
      "metadata": {
        "id": "ke6PIFLyhW5P"
      },
      "source": [
        "### Train-Test Split Standardizing Data"
      ]
    },
    {
      "cell_type": "code",
      "execution_count": null,
      "metadata": {
        "execution": {
          "iopub.execute_input": "2022-09-11T12:50:45.097864Z",
          "iopub.status.busy": "2022-09-11T12:50:45.097517Z",
          "iopub.status.idle": "2022-09-11T12:50:48.444728Z",
          "shell.execute_reply": "2022-09-11T12:50:48.443713Z",
          "shell.execute_reply.started": "2022-09-11T12:50:45.097833Z"
        },
        "trusted": true,
        "id": "IOtxCk5ehW5Q"
      },
      "outputs": [],
      "source": [
        "X = data_new.drop(\"isFraud\",1)\n",
        "y = data_new.isFraud\n",
        "X_train, X_test, y_train, y_test = train_test_split(X, y)\n",
        "    \n",
        "# Normalizing data so that all variables follow the same scale (0 to 1)\n",
        "scaler = MinMaxScaler()\n",
        "\n",
        "# Fit only to the training data\n",
        "X_train=scaler.fit_transform(X_train)\n",
        "\n",
        "X_test = scaler.transform(X_test)"
      ]
    },
    {
      "cell_type": "markdown",
      "metadata": {
        "id": "5mv2q3wLhW5Q"
      },
      "source": [
        "## Model Selection\n",
        "\n",
        "Non-parametric machine learning methods may be preferred due to the large size of the data and that the goal is accurate classification, not interpretation"
      ]
    },
    {
      "cell_type": "markdown",
      "metadata": {
        "id": "nmwsoUwIhW5R"
      },
      "source": [
        "### Performing Undersampling of Train Data\n",
        "- **We undersample training data as when we trained classifiers with entire training data all classifiers except RandomForest and Neural Networks classified all points as non-Fraud and failed to detect any Fraud transaction**\n",
        "- **Our training data is in millions so models will still learn train data well as the undersampled data will still contain enough number of transactions**"
      ]
    },
    {
      "cell_type": "code",
      "execution_count": null,
      "metadata": {
        "execution": {
          "iopub.execute_input": "2022-09-11T12:50:48.453191Z",
          "iopub.status.busy": "2022-09-11T12:50:48.452829Z",
          "iopub.status.idle": "2022-09-11T12:50:48.574399Z",
          "shell.execute_reply": "2022-09-11T12:50:48.572981Z",
          "shell.execute_reply.started": "2022-09-11T12:50:48.453161Z"
        },
        "trusted": true,
        "id": "TKmgH1NIhW5R"
      },
      "outputs": [],
      "source": [
        "from imblearn.under_sampling import RandomUnderSampler\n",
        "rus = RandomUnderSampler(sampling_strategy=0.2)"
      ]
    },
    {
      "cell_type": "code",
      "execution_count": null,
      "metadata": {
        "execution": {
          "iopub.execute_input": "2022-09-11T12:50:48.576704Z",
          "iopub.status.busy": "2022-09-11T12:50:48.575581Z",
          "iopub.status.idle": "2022-09-11T12:50:50.140952Z",
          "shell.execute_reply": "2022-09-11T12:50:50.139313Z",
          "shell.execute_reply.started": "2022-09-11T12:50:48.576665Z"
        },
        "trusted": true,
        "id": "V-iyAesqhW5R"
      },
      "outputs": [],
      "source": [
        "X_res, y_res = rus.fit_resample(X_train, y_train)"
      ]
    },
    {
      "cell_type": "markdown",
      "metadata": {
        "id": "jcbaDFP4hW5R"
      },
      "source": [
        "### Logistic Regression"
      ]
    },
    {
      "cell_type": "code",
      "execution_count": null,
      "metadata": {
        "execution": {
          "iopub.execute_input": "2022-09-11T12:50:50.142840Z",
          "iopub.status.busy": "2022-09-11T12:50:50.142464Z",
          "iopub.status.idle": "2022-09-11T12:50:50.147951Z",
          "shell.execute_reply": "2022-09-11T12:50:50.146925Z",
          "shell.execute_reply.started": "2022-09-11T12:50:50.142807Z"
        },
        "trusted": true,
        "id": "LqZTP54ehW5S"
      },
      "outputs": [],
      "source": [
        "from sklearn.linear_model import LogisticRegression"
      ]
    },
    {
      "cell_type": "code",
      "execution_count": null,
      "metadata": {
        "execution": {
          "iopub.execute_input": "2022-09-11T12:50:50.149720Z",
          "iopub.status.busy": "2022-09-11T12:50:50.149386Z",
          "iopub.status.idle": "2022-09-11T12:51:08.598025Z",
          "shell.execute_reply": "2022-09-11T12:51:08.596894Z",
          "shell.execute_reply.started": "2022-09-11T12:50:50.149691Z"
        },
        "trusted": true,
        "colab": {
          "base_uri": "https://localhost:8080/"
        },
        "id": "RoSP_qEMhW5S",
        "outputId": "6785e673-88f6-4581-bfe5-c2b2137c8ad5"
      },
      "outputs": [
        {
          "output_type": "stream",
          "name": "stdout",
          "text": [
            "Accuracy: 0.975462938223562\n",
            "Confusion Matrix:\n",
            " [[1550434   38170]\n",
            " [    860    1191]]\n",
            "Classification Report:\n",
            "               precision    recall  f1-score   support\n",
            "\n",
            "           0       1.00      0.98      0.99   1588604\n",
            "           1       0.03      0.58      0.06      2051\n",
            "\n",
            "    accuracy                           0.98   1590655\n",
            "   macro avg       0.51      0.78      0.52   1590655\n",
            "weighted avg       1.00      0.98      0.99   1590655\n",
            "\n",
            "Confusion Matrix Train:\n",
            " [[4651411  114392]\n",
            " [   2629    3533]]\n",
            "Classification Report Train:\n",
            "               precision    recall  f1-score   support\n",
            "\n",
            "           0       1.00      0.98      0.99   4765803\n",
            "           1       0.03      0.57      0.06      6162\n",
            "\n",
            "    accuracy                           0.98   4771965\n",
            "   macro avg       0.51      0.77      0.52   4771965\n",
            "weighted avg       1.00      0.98      0.99   4771965\n",
            "\n",
            "Precision: 0.030258377581870378\n",
            "Recall: 0.5806923451974646\n",
            "F1: 0.057519559547957115\n",
            "Area under precision (AUC) Recall: 0.01811146601922917\n"
          ]
        }
      ],
      "source": [
        "clf = LogisticRegression()\n",
        "clf.fit(X_res, y_res)\n",
        "y_pred = clf.predict(X_test)\n",
        "y_predtrain = clf.predict(X_train)\n",
        "CM_LR = confusion_matrix(y_test,y_pred)\n",
        "CR_LR = classification_report(y_test,y_pred)\n",
        "CM_LRtrain = confusion_matrix(y_train,y_predtrain)\n",
        "CR_LRtrain = classification_report(y_train,y_predtrain)\n",
        "print(\"Accuracy:\", accuracy_score(y_test, y_pred))\n",
        "print(\"Confusion Matrix:\\n\",CM_LR)\n",
        "print(\"Classification Report:\\n\",CR_LR)\n",
        "print(\"Confusion Matrix Train:\\n\",CM_LRtrain)\n",
        "print(\"Classification Report Train:\\n\",CR_LRtrain)\n",
        "print(\"Precision:\", precision_score(y_test, y_pred))\n",
        "print(\"Recall:\", recall_score(y_test, y_pred))\n",
        "print(\"F1:\", f1_score(y_test, y_pred))\n",
        "print(\"Area under precision (AUC) Recall:\", average_precision_score(y_test, y_pred))"
      ]
    },
    {
      "cell_type": "markdown",
      "metadata": {
        "id": "w3BufRcohW5S"
      },
      "source": [
        "### Bernoulli Naive Bayes"
      ]
    },
    {
      "cell_type": "code",
      "execution_count": null,
      "metadata": {
        "execution": {
          "iopub.execute_input": "2022-09-11T12:51:08.599647Z",
          "iopub.status.busy": "2022-09-11T12:51:08.599232Z",
          "iopub.status.idle": "2022-09-11T12:51:28.296620Z",
          "shell.execute_reply": "2022-09-11T12:51:28.295401Z",
          "shell.execute_reply.started": "2022-09-11T12:51:08.599613Z"
        },
        "trusted": true,
        "colab": {
          "base_uri": "https://localhost:8080/"
        },
        "id": "BMyj2Qr9hW5T",
        "outputId": "e2bc3408-ca4b-49db-add6-7916ddf9445a"
      },
      "outputs": [
        {
          "output_type": "stream",
          "name": "stdout",
          "text": [
            "Accuracy: 0.922464645067598\n",
            "Confusion Matrix:\n",
            " [[1466032  122572]\n",
            " [    760    1291]]\n",
            "Classification Report:\n",
            "               precision    recall  f1-score   support\n",
            "\n",
            "           0       1.00      0.92      0.96   1588604\n",
            "           1       0.01      0.63      0.02      2051\n",
            "\n",
            "    accuracy                           0.92   1590655\n",
            "   macro avg       0.50      0.78      0.49   1590655\n",
            "weighted avg       1.00      0.92      0.96   1590655\n",
            "\n",
            "Confusion Matrix Train:\n",
            " [[4397714  368089]\n",
            " [   2166    3996]]\n",
            "Classification Report Train:\n",
            "               precision    recall  f1-score   support\n",
            "\n",
            "           0       1.00      0.92      0.96   4765803\n",
            "           1       0.01      0.65      0.02      6162\n",
            "\n",
            "    accuracy                           0.92   4771965\n",
            "   macro avg       0.51      0.79      0.49   4771965\n",
            "weighted avg       1.00      0.92      0.96   4771965\n",
            "\n",
            "Precision: 0.010422805841938271\n",
            "Recall: 0.6294490492442711\n",
            "F1: 0.020506059691535496\n",
            "Area under precision (AUC) Recall: 0.007038415823363678\n"
          ]
        }
      ],
      "source": [
        "clf = BernoulliNB()\n",
        "clf.fit(X_res, y_res)\n",
        "y_pred = clf.predict(X_test)\n",
        "y_predtrain = clf.predict(X_train)\n",
        "CM_NB = confusion_matrix(y_test,y_pred)\n",
        "CR_NB = classification_report(y_test,y_pred)\n",
        "CM_NBtrain = confusion_matrix(y_train,y_predtrain)\n",
        "CR_NBtrain = classification_report(y_train,y_predtrain)\n",
        "print(\"Accuracy:\", accuracy_score(y_test, y_pred))\n",
        "print(\"Confusion Matrix:\\n\",CM_NB)\n",
        "print(\"Classification Report:\\n\",CR_NB)\n",
        "print(\"Confusion Matrix Train:\\n\",CM_NBtrain)\n",
        "print(\"Classification Report Train:\\n\",CR_NBtrain)\n",
        "print(\"Precision:\", precision_score(y_test, y_pred))\n",
        "print(\"Recall:\", recall_score(y_test, y_pred))\n",
        "print(\"F1:\", f1_score(y_test, y_pred))\n",
        "print(\"Area under precision (AUC) Recall:\", average_precision_score(y_test, y_pred))"
      ]
    },
    {
      "cell_type": "markdown",
      "metadata": {
        "id": "1w0hqxQOhW5T"
      },
      "source": [
        "### Multinomial Naive Bayes"
      ]
    },
    {
      "cell_type": "code",
      "execution_count": null,
      "metadata": {
        "execution": {
          "iopub.execute_input": "2022-09-11T12:51:28.298616Z",
          "iopub.status.busy": "2022-09-11T12:51:28.298177Z",
          "iopub.status.idle": "2022-09-11T12:51:46.765682Z",
          "shell.execute_reply": "2022-09-11T12:51:46.764575Z",
          "shell.execute_reply.started": "2022-09-11T12:51:28.298574Z"
        },
        "trusted": true,
        "colab": {
          "base_uri": "https://localhost:8080/"
        },
        "id": "qJNWMHP6hW5T",
        "outputId": "f7bfd9ef-2573-4928-a90a-71183ea5a53a"
      },
      "outputs": [
        {
          "output_type": "stream",
          "name": "stdout",
          "text": [
            "Accuracy: 0.9162231910753746\n",
            "Confusion Matrix:\n",
            " [[1456386  132218]\n",
            " [   1042    1009]]\n",
            "Classification Report:\n",
            "               precision    recall  f1-score   support\n",
            "\n",
            "           0       1.00      0.92      0.96   1588604\n",
            "           1       0.01      0.49      0.01      2051\n",
            "\n",
            "    accuracy                           0.92   1590655\n",
            "   macro avg       0.50      0.70      0.49   1590655\n",
            "weighted avg       1.00      0.92      0.96   1590655\n",
            "\n",
            "Confusion Matrix Train:\n",
            " [[4369220  396583]\n",
            " [   3075    3087]]\n",
            "Classification Report Train:\n",
            "               precision    recall  f1-score   support\n",
            "\n",
            "           0       1.00      0.92      0.96   4765803\n",
            "           1       0.01      0.50      0.02      6162\n",
            "\n",
            "    accuracy                           0.92   4771965\n",
            "   macro avg       0.50      0.71      0.49   4771965\n",
            "weighted avg       1.00      0.92      0.96   4771965\n",
            "\n",
            "Precision: 0.0075735398980687095\n",
            "Recall: 0.49195514383227695\n",
            "F1: 0.014917429293750646\n",
            "Area under precision (AUC) Recall: 0.004380917963449294\n"
          ]
        }
      ],
      "source": [
        "clf = MultinomialNB()\n",
        "clf.fit(X_res, y_res)\n",
        "y_pred = clf.predict(X_test)\n",
        "y_predtrain = clf.predict(X_train)\n",
        "CM_MNB = confusion_matrix(y_test,y_pred)\n",
        "CR_MNB = classification_report(y_test,y_pred)\n",
        "CM_MNBtrain = confusion_matrix(y_train,y_predtrain)\n",
        "CR_MNBtrain = classification_report(y_train,y_predtrain)\n",
        "print(\"Accuracy:\", accuracy_score(y_test, y_pred))\n",
        "print(\"Confusion Matrix:\\n\",CM_MNB)\n",
        "print(\"Classification Report:\\n\",CR_MNB)\n",
        "print(\"Confusion Matrix Train:\\n\",CM_MNBtrain)\n",
        "print(\"Classification Report Train:\\n\",CR_MNBtrain)\n",
        "print(\"Precision:\", precision_score(y_test, y_pred))\n",
        "print(\"Recall:\", recall_score(y_test, y_pred))\n",
        "print(\"F1:\", f1_score(y_test, y_pred))\n",
        "print(\"Area under precision (AUC) Recall:\", average_precision_score(y_test, y_pred))"
      ]
    },
    {
      "cell_type": "markdown",
      "metadata": {
        "id": "QYyCv0-5hW5U"
      },
      "source": [
        "### Stochastic Gradient Classifier"
      ]
    },
    {
      "cell_type": "code",
      "execution_count": null,
      "metadata": {
        "execution": {
          "iopub.execute_input": "2022-09-11T12:51:46.767868Z",
          "iopub.status.busy": "2022-09-11T12:51:46.767351Z",
          "iopub.status.idle": "2022-09-11T12:52:04.479250Z",
          "shell.execute_reply": "2022-09-11T12:52:04.478234Z",
          "shell.execute_reply.started": "2022-09-11T12:51:46.767835Z"
        },
        "trusted": true,
        "colab": {
          "base_uri": "https://localhost:8080/"
        },
        "id": "j3DcVn1bhW5U",
        "outputId": "86df6a59-128e-4e04-d168-4709d53ad61c"
      },
      "outputs": [
        {
          "output_type": "stream",
          "name": "stdout",
          "text": [
            "Accuracy: 0.9728055423709101\n",
            "Confusion Matrix:\n",
            " [[1546157   42447]\n",
            " [    810    1241]]\n",
            "Classification Report:\n",
            "               precision    recall  f1-score   support\n",
            "\n",
            "           0       1.00      0.97      0.99   1588604\n",
            "           1       0.03      0.61      0.05      2051\n",
            "\n",
            "    accuracy                           0.97   1590655\n",
            "   macro avg       0.51      0.79      0.52   1590655\n",
            "weighted avg       1.00      0.97      0.99   1590655\n",
            "\n",
            "Confusion Matrix Train:\n",
            " [[4638245  127558]\n",
            " [   2507    3655]]\n",
            "Classification Report Train:\n",
            "               precision    recall  f1-score   support\n",
            "\n",
            "           0       1.00      0.97      0.99   4765803\n",
            "           1       0.03      0.59      0.05      6162\n",
            "\n",
            "    accuracy                           0.97   4771965\n",
            "   macro avg       0.51      0.78      0.52   4771965\n",
            "weighted avg       1.00      0.97      0.98   4771965\n",
            "\n",
            "Precision: 0.02840596960263688\n",
            "Recall: 0.6050706972208678\n",
            "F1: 0.05426441330155885\n",
            "Area under precision (AUC) Recall: 0.01769684402022251\n"
          ]
        }
      ],
      "source": [
        "from sklearn.linear_model import SGDClassifier\n",
        "clf = SGDClassifier(loss=\"hinge\", penalty=\"l2\", max_iter=5)\n",
        "clf.fit(X_res, y_res)\n",
        "y_pred=clf.predict(X_test)\n",
        "y_predtrain=clf.predict(X_train)\n",
        "SGDClassifier(max_iter=5)\n",
        "CM_svc = confusion_matrix(y_test,y_pred)\n",
        "CR_svc = classification_report(y_test,y_pred)\n",
        "CM_svctrain = confusion_matrix(y_train,y_predtrain)\n",
        "CR_svctrain = classification_report(y_train,y_predtrain)\n",
        "print(\"Accuracy:\", accuracy_score(y_test, y_pred))\n",
        "print(\"Confusion Matrix:\\n\",CM_svc)\n",
        "print(\"Classification Report:\\n\",CR_svc)\n",
        "print(\"Confusion Matrix Train:\\n\",CM_svctrain)\n",
        "print(\"Classification Report Train:\\n\",CR_svctrain)\n",
        "print(\"Precision:\", precision_score(y_test, y_pred))\n",
        "print(\"Recall:\", recall_score(y_test, y_pred))\n",
        "print(\"F1:\", f1_score(y_test, y_pred))\n",
        "print(\"Area under precision (AUC) Recall:\", average_precision_score(y_test, y_pred))"
      ]
    },
    {
      "cell_type": "markdown",
      "metadata": {
        "id": "3izgGjMBhW5U"
      },
      "source": [
        "### RandomForestClassifier"
      ]
    },
    {
      "cell_type": "markdown",
      "metadata": {
        "id": "bsbWD6oWhW5V"
      },
      "source": [
        "A random forest is an algorithm that generates several decisions trees and pools the results of each tree to make a more robust prediction.\n",
        "\n",
        "Another great thing about Random Forest is that We can assign weights to each class to reduced the bias of the model towards the majority class."
      ]
    },
    {
      "cell_type": "code",
      "execution_count": null,
      "metadata": {
        "execution": {
          "iopub.execute_input": "2022-09-11T12:52:04.480865Z",
          "iopub.status.busy": "2022-09-11T12:52:04.480501Z",
          "iopub.status.idle": "2022-09-11T12:53:41.490956Z",
          "shell.execute_reply": "2022-09-11T12:53:41.489711Z",
          "shell.execute_reply.started": "2022-09-11T12:52:04.480833Z"
        },
        "trusted": true,
        "colab": {
          "base_uri": "https://localhost:8080/"
        },
        "id": "MSwLgWC9hW5V",
        "outputId": "7b1231c7-b0a2-4d9f-f637-fea33f62e5e9"
      },
      "outputs": [
        {
          "output_type": "stream",
          "name": "stdout",
          "text": [
            "Accuracy: 0.9997334431413474\n",
            "Confusion Matrix:\n",
            " [[1588584      20]\n",
            " [    404    1647]]\n",
            "Classification Report:\n",
            "               precision    recall  f1-score   support\n",
            "\n",
            "           0       1.00      1.00      1.00   1588604\n",
            "           1       0.99      0.80      0.89      2051\n",
            "\n",
            "    accuracy                           1.00   1590655\n",
            "   macro avg       0.99      0.90      0.94   1590655\n",
            "weighted avg       1.00      1.00      1.00   1590655\n",
            "\n",
            "Confusion Matrix Train Data:\n",
            " [[4765802       1]\n",
            " [    116    6046]]\n",
            "Classification Report Train Data:\n",
            "               precision    recall  f1-score   support\n",
            "\n",
            "           0       1.00      1.00      1.00   4765803\n",
            "           1       1.00      0.98      0.99      6162\n",
            "\n",
            "    accuracy                           1.00   4771965\n",
            "   macro avg       1.00      0.99      1.00   4771965\n",
            "weighted avg       1.00      1.00      1.00   4771965\n",
            "\n",
            "Precision: 0.9880023995200959\n",
            "Recall: 0.803022915650902\n",
            "F1: 0.8859601936525013\n",
            "Area under precision (AUC) Recall: 0.7936425509546384\n"
          ]
        }
      ],
      "source": [
        "RF = RandomForestClassifier(n_estimators=15,oob_score=True,class_weight='balanced',n_jobs=-1)\n",
        "\n",
        "\n",
        "RF.fit(X_train, y_train)\n",
        "\n",
        "y_pred= RF.predict(X_test)\n",
        "y_predtrain=RF.predict(X_train) \n",
        "     \n",
        "# Evaluating model\n",
        "CM_RF_train=confusion_matrix(y_train,y_predtrain)\n",
        "CR_RF_train= classification_report(y_train,y_predtrain)\n",
        "CM_RF = confusion_matrix(y_test,y_pred)\n",
        "CR_RF = classification_report(y_test,y_pred)\n",
        "print(\"Accuracy:\", accuracy_score(y_test, y_pred))\n",
        "print(\"Confusion Matrix:\\n\",CM_RF)\n",
        "print(\"Classification Report:\\n\",CR_RF)\n",
        "print(\"Confusion Matrix Train Data:\\n\",CM_RF_train)\n",
        "print(\"Classification Report Train Data:\\n\",CR_RF_train)\n",
        "print(\"Precision:\", precision_score(y_test, y_pred))\n",
        "print(\"Recall:\", recall_score(y_test, y_pred))\n",
        "print(\"F1:\", f1_score(y_test, y_pred))\n",
        "print(\"Area under precision (AUC) Recall:\", average_precision_score(y_test, y_pred))"
      ]
    },
    {
      "cell_type": "markdown",
      "metadata": {
        "id": "ruGWtCuchW5V"
      },
      "source": [
        "**When using entire training data for training RandomForest model the model classifies only a very small fraction as Fraud but misclassifies more than 20% Fraud transactions as non-Fraud which is not desirable. Hence we train our RandomForest Classifier using undersampled training data to minimize misclassification of Fraud transactions allowing misclassification of non-Fraud transactions to some extent.** "
      ]
    },
    {
      "cell_type": "code",
      "execution_count": null,
      "metadata": {
        "execution": {
          "iopub.execute_input": "2022-09-11T12:53:41.493165Z",
          "iopub.status.busy": "2022-09-11T12:53:41.492813Z",
          "iopub.status.idle": "2022-09-11T12:54:03.907869Z",
          "shell.execute_reply": "2022-09-11T12:54:03.906861Z",
          "shell.execute_reply.started": "2022-09-11T12:53:41.493133Z"
        },
        "trusted": true,
        "colab": {
          "base_uri": "https://localhost:8080/"
        },
        "id": "fQVG6O2khW5W",
        "outputId": "0d0be091-bce3-4f38-f3a6-adf9623a352b"
      },
      "outputs": [
        {
          "output_type": "stream",
          "name": "stdout",
          "text": [
            "Accuracy: 0.9960695436785475\n",
            "Confusion Matrix:\n",
            " [[1582409    6195]\n",
            " [     57    1994]]\n",
            "Classification Report:\n",
            "               precision    recall  f1-score   support\n",
            "\n",
            "           0       1.00      1.00      1.00   1588604\n",
            "           1       0.24      0.97      0.39      2051\n",
            "\n",
            "    accuracy                           1.00   1590655\n",
            "   macro avg       0.62      0.98      0.69   1590655\n",
            "weighted avg       1.00      1.00      1.00   1590655\n",
            "\n",
            "Confusion Matrix Train Data:\n",
            " [[4747245   18558]\n",
            " [      6    6156]]\n",
            "Classification Report Train Data:\n",
            "               precision    recall  f1-score   support\n",
            "\n",
            "           0       1.00      1.00      1.00   4765803\n",
            "           1       0.25      1.00      0.40      6162\n",
            "\n",
            "    accuracy                           1.00   4771965\n",
            "   macro avg       0.62      1.00      0.70   4771965\n",
            "weighted avg       1.00      1.00      1.00   4771965\n",
            "\n",
            "Precision: 0.24349737452680426\n",
            "Recall: 0.9722086786933203\n",
            "F1: 0.389453125\n",
            "Area under precision (AUC) Recall: 0.23676609504867427\n"
          ]
        }
      ],
      "source": [
        "RF = RandomForestClassifier(n_estimators=15,oob_score=True,n_jobs=-1)\n",
        "\n",
        "\n",
        "RF.fit(X_res, y_res)\n",
        "\n",
        "y_pred= RF.predict(X_test)\n",
        "y_predtrain=RF.predict(X_train) \n",
        "     \n",
        "# Evaluating model\n",
        "CM_RF_train=confusion_matrix(y_train,y_predtrain)\n",
        "CR_RF_train= classification_report(y_train,y_predtrain)\n",
        "CM_RF = confusion_matrix(y_test,y_pred)\n",
        "CR_RF = classification_report(y_test,y_pred)\n",
        "print(\"Accuracy:\", accuracy_score(y_test, y_pred))\n",
        "print(\"Confusion Matrix:\\n\",CM_RF)\n",
        "print(\"Classification Report:\\n\",CR_RF)\n",
        "print(\"Confusion Matrix Train Data:\\n\",CM_RF_train)\n",
        "print(\"Classification Report Train Data:\\n\",CR_RF_train)\n",
        "print(\"Precision:\", precision_score(y_test, y_pred))\n",
        "print(\"Recall:\", recall_score(y_test, y_pred))\n",
        "print(\"F1:\", f1_score(y_test, y_pred))\n",
        "print(\"Area under precision (AUC) Recall:\", average_precision_score(y_test, y_pred))"
      ]
    },
    {
      "cell_type": "markdown",
      "metadata": {
        "id": "0D3UeTsehW5W"
      },
      "source": [
        "### Artificial Neural Networks"
      ]
    },
    {
      "cell_type": "code",
      "execution_count": null,
      "metadata": {
        "execution": {
          "iopub.execute_input": "2022-09-11T12:54:03.910105Z",
          "iopub.status.busy": "2022-09-11T12:54:03.909629Z",
          "iopub.status.idle": "2022-09-11T12:54:10.830906Z",
          "shell.execute_reply": "2022-09-11T12:54:10.829580Z",
          "shell.execute_reply.started": "2022-09-11T12:54:03.910067Z"
        },
        "trusted": true,
        "id": "QvqyFalChW5W"
      },
      "outputs": [],
      "source": [
        "import tensorflow as tf\n",
        "from tensorflow import keras\n",
        "\n",
        "\n",
        "model = keras.Sequential([\n",
        "    keras.layers.Dense(15, input_shape=(12,), activation='relu'),\n",
        "    keras.layers.Dense(1, activation='sigmoid')\n",
        "])"
      ]
    },
    {
      "cell_type": "code",
      "execution_count": null,
      "metadata": {
        "execution": {
          "iopub.execute_input": "2022-09-11T12:54:10.833490Z",
          "iopub.status.busy": "2022-09-11T12:54:10.832719Z",
          "iopub.status.idle": "2022-09-11T13:12:07.867447Z",
          "shell.execute_reply": "2022-09-11T13:12:07.865935Z",
          "shell.execute_reply.started": "2022-09-11T12:54:10.833442Z"
        },
        "trusted": true,
        "colab": {
          "base_uri": "https://localhost:8080/"
        },
        "id": "YLCxnBgEhW5X",
        "outputId": "49a992fa-cd27-4df4-924f-1ab9fda724d6"
      },
      "outputs": [
        {
          "output_type": "stream",
          "name": "stdout",
          "text": [
            "Epoch 1/5\n",
            "149124/149124 [==============================] - 304s 2ms/step - loss: 0.0062 - accuracy: 0.9989\n",
            "Epoch 2/5\n",
            "149124/149124 [==============================] - 281s 2ms/step - loss: 0.0040 - accuracy: 0.9992\n",
            "Epoch 3/5\n",
            "149124/149124 [==============================] - 263s 2ms/step - loss: 0.0035 - accuracy: 0.9993\n",
            "Epoch 4/5\n",
            "116812/149124 [======================>.......] - ETA: 55s - loss: 0.0033 - accuracy: 0.9993"
          ]
        }
      ],
      "source": [
        "model.compile(optimizer='adam',\n",
        "              loss='binary_crossentropy',\n",
        "              metrics=['accuracy'])\n",
        "\n",
        "model.fit(X_train, y_train, epochs=5)"
      ]
    },
    {
      "cell_type": "code",
      "execution_count": null,
      "metadata": {
        "execution": {
          "iopub.execute_input": "2022-09-11T13:12:07.869873Z",
          "iopub.status.busy": "2022-09-11T13:12:07.869465Z",
          "iopub.status.idle": "2022-09-11T13:12:43.016269Z",
          "shell.execute_reply": "2022-09-11T13:12:43.015195Z",
          "shell.execute_reply.started": "2022-09-11T13:12:07.869839Z"
        },
        "trusted": true,
        "id": "LPYzdq2ehW5X"
      },
      "outputs": [],
      "source": [
        "Y_pred1=model.predict(X_test)"
      ]
    },
    {
      "cell_type": "code",
      "execution_count": null,
      "metadata": {
        "execution": {
          "iopub.execute_input": "2022-09-11T13:12:43.018928Z",
          "iopub.status.busy": "2022-09-11T13:12:43.017977Z",
          "iopub.status.idle": "2022-09-11T13:12:43.030107Z",
          "shell.execute_reply": "2022-09-11T13:12:43.028822Z",
          "shell.execute_reply.started": "2022-09-11T13:12:43.018893Z"
        },
        "trusted": true,
        "id": "pkKdkFe1hW5X"
      },
      "outputs": [],
      "source": [
        "Y_pred=np.where(Y_pred1<0.44,0,1)"
      ]
    },
    {
      "cell_type": "code",
      "execution_count": null,
      "metadata": {
        "execution": {
          "iopub.execute_input": "2022-09-11T13:12:43.032262Z",
          "iopub.status.busy": "2022-09-11T13:12:43.031835Z",
          "iopub.status.idle": "2022-09-11T13:14:29.471232Z",
          "shell.execute_reply": "2022-09-11T13:14:29.470196Z",
          "shell.execute_reply.started": "2022-09-11T13:12:43.032219Z"
        },
        "trusted": true,
        "id": "X4ajV7HLhW5Y"
      },
      "outputs": [],
      "source": [
        "y_predtrain1=model.predict(X_train)"
      ]
    },
    {
      "cell_type": "code",
      "execution_count": null,
      "metadata": {
        "execution": {
          "iopub.execute_input": "2022-09-11T13:14:29.473479Z",
          "iopub.status.busy": "2022-09-11T13:14:29.473039Z",
          "iopub.status.idle": "2022-09-11T13:14:29.495144Z",
          "shell.execute_reply": "2022-09-11T13:14:29.494193Z",
          "shell.execute_reply.started": "2022-09-11T13:14:29.473431Z"
        },
        "trusted": true,
        "id": "TQYQc5FJhW5Y"
      },
      "outputs": [],
      "source": [
        "y_predtrain=np.where(y_predtrain1<0.38,0,1)"
      ]
    },
    {
      "cell_type": "code",
      "execution_count": null,
      "metadata": {
        "execution": {
          "iopub.execute_input": "2022-09-11T13:14:29.496582Z",
          "iopub.status.busy": "2022-09-11T13:14:29.496288Z",
          "iopub.status.idle": "2022-09-11T13:14:46.914120Z",
          "shell.execute_reply": "2022-09-11T13:14:46.912811Z",
          "shell.execute_reply.started": "2022-09-11T13:14:29.496554Z"
        },
        "trusted": true,
        "id": "1opU13vehW5Y"
      },
      "outputs": [],
      "source": [
        "CM_NN = confusion_matrix(y_test,Y_pred)\n",
        "CR_NN = classification_report(y_test,Y_pred)\n",
        "CM_NNtrain = confusion_matrix(y_train,y_predtrain)\n",
        "CR_NNtrain = classification_report(y_train,y_predtrain)\n",
        "ROC_AUC_SCORENN= roc_auc_score(y_test, Y_pred)\n",
        "print(\"Confusion Matrix:\\n\",CM_NN)\n",
        "print(\"Classification Report:\\n\",CR_NN)\n",
        "print(\"Confusion Matrix Train:\\n\",CM_NNtrain)\n",
        "print(\"Classification Report Train:\\n\",CR_NNtrain)\n",
        "print(\"Area Under Curve:\",ROC_AUC_SCORENN)\n",
        "print(\"Precision:\", precision_score(y_test, Y_pred))\n",
        "print(\"Recall:\", recall_score(y_test, Y_pred))\n",
        "print(\"F1:\", f1_score(y_test, Y_pred))"
      ]
    },
    {
      "cell_type": "markdown",
      "metadata": {
        "id": "GpTmvwcOhW5Y"
      },
      "source": [
        "### Observations and Conclusion"
      ]
    },
    {
      "cell_type": "markdown",
      "metadata": {
        "id": "4KyblsGKhW5Z"
      },
      "source": [
        "- **When we compare confusion matrices of all the classifiers we observe that RandomForest Classifier does a very good work detecting Fraud Transactions leaving only around 3% of Fraud transactions from Test data undetected and when checked on Train data it leaves 0.05% Fraud transactions undetected.** \n",
        "- **The closest model in detecting fraud transactions is Bernoulli Naive Bayes but it still leaves more Fraud transactions from Train and Test data undetected and also it misclassifies considerable Non-Fraud transactions as Fraud which is very undesirable.**\n",
        "- **RandomForest does misclassify some nonFraud transactions as Fraud but it is less than 0.5% of all non Fraud transactions which is fine if less than 0.5% of nonFraud transactions fail in an attempt to detect 97% Fraud transactions.**"
      ]
    },
    {
      "cell_type": "markdown",
      "metadata": {
        "id": "6tfmIcXxhW5Z"
      },
      "source": [
        "### Thus, RandomForest Classifier performs best in detecting Fraud Transactions."
      ]
    },
    {
      "cell_type": "markdown",
      "metadata": {
        "id": "VcM3YLbVhW5Z"
      },
      "source": [
        "#### Confusion Matrix and Classification Report of RandomForest Classifier model"
      ]
    },
    {
      "cell_type": "code",
      "source": [
        "import matplotlib.lines as mlines"
      ],
      "metadata": {
        "id": "BbsOQwfTyTsN"
      },
      "execution_count": null,
      "outputs": []
    },
    {
      "cell_type": "code",
      "execution_count": null,
      "metadata": {
        "execution": {
          "iopub.execute_input": "2022-09-11T13:14:46.915997Z",
          "iopub.status.busy": "2022-09-11T13:14:46.915632Z",
          "iopub.status.idle": "2022-09-11T13:14:46.923804Z",
          "shell.execute_reply": "2022-09-11T13:14:46.922109Z",
          "shell.execute_reply.started": "2022-09-11T13:14:46.915967Z"
        },
        "trusted": true,
        "id": "-2CD37eOhW5Z"
      },
      "outputs": [],
      "source": [
        "print(\"Confusion Matrix:\\n\",CM_RF)\n",
        "print(\"Classification Report:\\n\",CR_RF)\n",
        "print(\"Confusion Matrix Train Data:\\n\",CM_RF_train)\n",
        "print(\"Classification Report Train Data:\\n\",CR_RF_train)"
      ]
    },
    {
      "cell_type": "code",
      "source": [
        "X = data.loc[(data.type == 'TRANSFER') | (data.type == 'CASH_OUT')]\n",
        "\n",
        "randomState = 5\n",
        "np.random.seed(randomState)\n",
        "\n",
        "#X = X.loc[np.random.choice(X.index, 100000, replace = False)]\n",
        "\n",
        "Y = X['isFraud']\n",
        "del X['isFraud']\n",
        "\n",
        "# Eliminate columns shown to be irrelevant for analysis in the EDA\n",
        "X = X.drop(['nameOrig', 'nameDest', 'isFlaggedFraud'], axis = 1)\n",
        "\n",
        "# Binary-encoding of labelled data in 'type'\n",
        "X.loc[X.type == 'TRANSFER', 'type'] = 0\n",
        "X.loc[X.type == 'CASH_OUT', 'type'] = 1\n",
        "X.type = X.type.astype(int) # convert dtype('O') to dtype(int)"
      ],
      "metadata": {
        "id": "uiR7AWmUoNDw"
      },
      "execution_count": null,
      "outputs": []
    },
    {
      "cell_type": "code",
      "source": [
        "Xfraud = X.loc[Y == 1]\n",
        "XnonFraud = X.loc[Y == 0]\n",
        "print('\\nThe fraction of fraudulent transactions with \\'oldbalanceDest\\' = \\\n",
        "\\'newbalanceDest\\' = 0 although the transacted \\'amount\\' is non-zero is: {}'.\\\n",
        "format(len(Xfraud.loc[(Xfraud.oldbalanceDest == 0) & \\\n",
        "(Xfraud.newbalanceDest == 0) & (Xfraud.amount)]) / (1.0 * len(Xfraud))))\n",
        "\n",
        "print('\\nThe fraction of genuine transactions with \\'oldbalanceDest\\' = \\\n",
        "newbalanceDest\\' = 0 although the transacted \\'amount\\' is non-zero is: {}'.\\\n",
        "format(len(XnonFraud.loc[(XnonFraud.oldbalanceDest == 0) & \\\n",
        "(XnonFraud.newbalanceDest == 0) & (XnonFraud.amount)]) / (1.0 * len(XnonFraud))))"
      ],
      "metadata": {
        "id": "w2Z2a_DHvf7M"
      },
      "execution_count": null,
      "outputs": []
    },
    {
      "cell_type": "code",
      "source": [
        "X.loc[(X.oldbalanceDest == 0) & (X.newbalanceDest == 0) & (X.amount != 0), \\\n",
        "      ['oldbalanceDest', 'newbalanceDest']] = - 1"
      ],
      "metadata": {
        "id": "JbPa3KUwvp4C"
      },
      "execution_count": null,
      "outputs": []
    },
    {
      "cell_type": "code",
      "source": [
        "X.loc[(X.oldbalanceOrg == 0) & (X.newbalanceOrig == 0) & (X.amount != 0), \\\n",
        "      ['oldBalanceOrig', 'newBalanceOrig']] = np.nan"
      ],
      "metadata": {
        "id": "AUfyuh6Vvtfq"
      },
      "execution_count": null,
      "outputs": []
    },
    {
      "cell_type": "code",
      "source": [
        "X['errorbalanceOrig'] = X.newbalanceOrig + X.amount - X.oldbalanceOrg\n",
        "X['errorbalanceDest'] = X.oldbalanceDest + X.amount - X.newbalanceDest"
      ],
      "metadata": {
        "id": "Tmx0aw_Yvxhp"
      },
      "execution_count": null,
      "outputs": []
    },
    {
      "cell_type": "code",
      "source": [
        "# Long computation in this cell (~2.5 minutes)\n",
        "x = 'errorbalanceDest'\n",
        "y = 'step'\n",
        "z = 'errorbalanceOrig'\n",
        "zOffset = 0.02\n",
        "limit = len(X)\n",
        "\n",
        "sns.reset_orig() # prevent seaborn from over-riding mplot3d defaults\n",
        "\n",
        "fig = plt.figure(figsize = (10, 12))\n",
        "ax = fig.add_subplot(111, projection='3d')\n",
        "\n",
        "ax.scatter(X.loc[Y == 0, x][:limit], X.loc[Y == 0, y][:limit], \\\n",
        "  -np.log10(X.loc[Y == 0, z][:limit] + zOffset), c = 'g', marker = '.', \\\n",
        "  s = 1, label = 'genuine')\n",
        "    \n",
        "ax.scatter(X.loc[Y == 1, x][:limit], X.loc[Y == 1, y][:limit], \\\n",
        "  -np.log10(X.loc[Y == 1, z][:limit] + zOffset), c = 'r', marker = '.', \\\n",
        "  s = 1, label = 'fraudulent')\n",
        "\n",
        "ax.set_xlabel(x, size = 16); \n",
        "ax.set_ylabel(y + ' [hour]', size = 16); \n",
        "ax.set_zlabel('- log$_{10}$ (' + z + ')', size = 16)\n",
        "ax.set_title('Error-based features separate out genuine and fraudulent \\\n",
        "transactions', size = 20)\n",
        "\n",
        "plt.axis('tight')\n",
        "ax.grid(1)\n",
        "\n",
        "noFraudMarker = mlines.Line2D([], [], linewidth = 0, color='g', marker='.',\n",
        "                          markersize = 10, label='genuine')\n",
        "fraudMarker = mlines.Line2D([], [], linewidth = 0, color='r', marker='.',\n",
        "                          markersize = 10, label='fraudulent')\n",
        "\n",
        "plt.legend(handles = [noFraudMarker, fraudMarker], \\\n",
        "           bbox_to_anchor = (1.20, 0.38 ), frameon = False, prop={'size': 16});"
      ],
      "metadata": {
        "id": "4yPyjkSFxbu_"
      },
      "execution_count": null,
      "outputs": []
    },
    {
      "cell_type": "code",
      "source": [
        "Xfraud = X.loc[Y == 1] # update Xfraud & XnonFraud with cleaned data\n",
        "XnonFraud = X.loc[Y == 0]\n",
        "                  \n",
        "correlationNonFraud = XnonFraud.loc[:, X.columns != 'step'].corr()\n",
        "mask = np.zeros_like(correlationNonFraud)\n",
        "indices = np.triu_indices_from(correlationNonFraud)\n",
        "mask[indices] = True\n",
        "\n",
        "grid_kws = {\"width_ratios\": (.9, .9, .05), \"wspace\": 0.2}\n",
        "f, (ax1, ax2, cbar_ax) = plt.subplots(1, 3, gridspec_kw=grid_kws, \\\n",
        "                                     figsize = (14, 9))\n",
        "\n",
        "cmap = sns.diverging_palette(220, 8, as_cmap=True)\n",
        "ax1 =sns.heatmap(correlationNonFraud, ax = ax1, vmin = -1, vmax = 1, \\\n",
        "    cmap = cmap, square = False, linewidths = 0.5, mask = mask, cbar = False)\n",
        "ax1.set_xticklabels(ax1.get_xticklabels(), size = 16); \n",
        "ax1.set_yticklabels(ax1.get_yticklabels(), size = 16); \n",
        "ax1.set_title('Genuine \\n transactions', size = 20)\n",
        "\n",
        "correlationFraud = Xfraud.loc[:, X.columns != 'step'].corr()\n",
        "ax2 = sns.heatmap(correlationFraud, vmin = -1, vmax = 1, cmap = cmap, \\\n",
        " ax = ax2, square = False, linewidths = 0.5, mask = mask, yticklabels = False, \\\n",
        "    cbar_ax = cbar_ax, cbar_kws={'orientation': 'vertical', \\\n",
        "                                 'ticks': [-1, -0.5, 0, 0.5, 1]})\n",
        "ax2.set_xticklabels(ax2.get_xticklabels(), size = 16); \n",
        "ax2.set_title('Fraudulent \\n transactions', size = 20);\n",
        "\n",
        "cbar_ax.set_yticklabels(cbar_ax.get_yticklabels(), size = 14);"
      ],
      "metadata": {
        "id": "VEbIX3yfxUFv"
      },
      "execution_count": null,
      "outputs": []
    },
    {
      "cell_type": "code",
      "source": [
        "trainX, testX, trainY, testY = train_test_split(X, Y, test_size = 0.2, \\\n",
        "                                                random_state = randomState)"
      ],
      "metadata": {
        "id": "AaNZxEZdUfk3"
      },
      "execution_count": null,
      "outputs": []
    },
    {
      "cell_type": "code",
      "source": [
        "# Long computation in this cell (~1.8 minutes)\n",
        "weights = (Y == 0).sum() / (1.0 * (Y == 1).sum())\n",
        "clf = XGBClassifier(max_depth = 3, scale_pos_weight = weights, \\\n",
        "                n_jobs = 4)\n",
        "probabilities = clf.fit(trainX, trainY).predict_proba(testX)\n",
        "print('AUPRC = {}'.format(average_precision_score(testY, \\\n",
        "                                              probabilities[:, 1])))"
      ],
      "metadata": {
        "id": "OWROXRQrUoHM"
      },
      "execution_count": null,
      "outputs": []
    },
    {
      "cell_type": "code",
      "source": [
        "y_pred =probabilities.predict(X_test)"
      ],
      "metadata": {
        "id": "4gtKxH2vYDIl"
      },
      "execution_count": null,
      "outputs": []
    },
    {
      "cell_type": "code",
      "source": [
        "from sklearn import metrics\n",
        "def buildROC(target_test,test_preds):\n",
        "    fpr, tpr, threshold = metrics.roc_curve(X_test, y_pred)\n",
        "    roc_auc = metrics.auc(fpr, tpr)\n",
        "    plt.title('Receiver Operating Characteristic')\n",
        "    plt.plot(fpr, tpr, 'b', label = 'AUC = %0.2f' % roc_auc)\n",
        "    plt.legend(loc = 'lower right')\n",
        "    plt.plot([0, 1], [0, 1],'r--')\n",
        "    plt.ylabel('True Positive Rate')\n",
        "    plt.xlabel('False Positive Rate')"
      ],
      "metadata": {
        "id": "NMZoxSEGZv8B"
      },
      "execution_count": null,
      "outputs": []
    },
    {
      "cell_type": "code",
      "source": [
        "from sklearn.metrics import accuracy_score\n",
        "\n",
        "print('XGBoost model accuracy score: {0:0.4f}'. format(accuracy_score(y_test, y_pred)))"
      ],
      "metadata": {
        "id": "WcFFX7KYYT9U"
      },
      "execution_count": null,
      "outputs": []
    },
    {
      "cell_type": "code",
      "source": [
        "fig = plt.figure(figsize = (14, 9))\n",
        "ax = fig.add_subplot(111)\n",
        "\n",
        "colours = plt.cm.Set1(np.linspace(0, 1, 9))\n",
        "\n",
        "ax = plot_importance(clf, height = 1, color = colours, grid = False, \\\n",
        "                     show_values = False, importance_type = 'cover', ax = ax);\n",
        "for axis in ['top','bottom','left','right']:\n",
        "            ax.spines[axis].set_linewidth(2)\n",
        "        \n",
        "ax.set_xlabel('importance score', size = 16);\n",
        "ax.set_ylabel('features', size = 16);\n",
        "ax.set_yticklabels(ax.get_yticklabels(), size = 12);\n",
        "ax.set_title('Ordering of features by importance to the model learnt', size = 20);\n"
      ],
      "metadata": {
        "id": "JHm4bPjvVSPg"
      },
      "execution_count": null,
      "outputs": []
    },
    {
      "cell_type": "code",
      "source": [
        "from xgboost import plot_importance, to_graphviz\n"
      ],
      "metadata": {
        "id": "vGFkjWKJU8Ws"
      },
      "execution_count": null,
      "outputs": []
    },
    {
      "cell_type": "code",
      "source": [
        "to_graphviz(clf)"
      ],
      "metadata": {
        "id": "Y4T0w1qyUl5j"
      },
      "execution_count": null,
      "outputs": []
    },
    {
      "cell_type": "code",
      "source": [
        "from xgboost import cv\n",
        "\n",
        "params = {\"objective\":\"binary:logistic\",'colsample_bytree': 0.3,'learning_rate': 0.1,\n",
        "                'max_depth': 5, 'alpha': 10}\n",
        "\n",
        "xgb_cv = cv(X,Y, params=params, nfold=3,\n",
        "                    num_boost_round=50, early_stopping_rounds=10, metrics=\"auc\", as_pandas=True, seed=123)"
      ],
      "metadata": {
        "id": "Bji1oQddV8_R"
      },
      "execution_count": null,
      "outputs": []
    },
    {
      "cell_type": "code",
      "source": [
        "xgb_cv.head()"
      ],
      "metadata": {
        "id": "Ym8MJuVYY0gr"
      },
      "execution_count": null,
      "outputs": []
    },
    {
      "cell_type": "code",
      "source": [
        "# Long computation in this cell (~6 minutes)\n",
        "from sklearn.model_selection import  learning_curve\n",
        "trainSizes, trainScores, crossValScores = learning_curve(\\\n",
        "XGBClassifier(max_depth = 3, scale_pos_weight = weights, n_jobs = 4), trainX,\\\n",
        "                                         trainY, scoring = 'average_precision')"
      ],
      "metadata": {
        "id": "WfNsRDnlabWt"
      },
      "execution_count": null,
      "outputs": []
    },
    {
      "cell_type": "code",
      "source": [
        "trainScoresMean = np.mean(trainScores, axis=1)\n",
        "trainScoresStd = np.std(trainScores, axis=1)\n",
        "crossValScoresMean = np.mean(crossValScores, axis=1)\n",
        "crossValScoresStd = np.std(crossValScores, axis=1)\n",
        "\n",
        "colours = plt.cm.tab10(np.linspace(0, 1, 9))\n",
        "\n",
        "fig = plt.figure(figsize = (14, 9))\n",
        "plt.fill_between(trainSizes, trainScoresMean - trainScoresStd,\n",
        "    trainScoresMean + trainScoresStd, alpha=0.1, color=colours[0])\n",
        "plt.fill_between(trainSizes, crossValScoresMean - crossValScoresStd,\n",
        "    crossValScoresMean + crossValScoresStd, alpha=0.1, color=colours[1])\n",
        "plt.plot(trainSizes, trainScores.mean(axis = 1), 'o-', label = 'train', \\\n",
        "         color = colours[0])\n",
        "plt.plot(trainSizes, crossValScores.mean(axis = 1), 'o-', label = 'cross-val', \\\n",
        "         color = colours[1])\n",
        "ax = plt.gca()\n",
        "for axis in ['top','bottom','left','right']:\n",
        "    ax.spines[axis].set_linewidth(2)\n",
        "\n",
        "handles, labels = ax.get_legend_handles_labels()\n",
        "plt.legend(handles, ['train', 'cross-val'], bbox_to_anchor=(0.8, 0.15), \\\n",
        "               loc=2, borderaxespad=0, fontsize = 16);\n",
        "plt.xlabel('training set size', size = 16); \n",
        "plt.ylabel('AUPRC', size = 16)\n",
        "plt.title('Learning curves', size = 20);"
      ],
      "metadata": {
        "id": "Or7Pw8YJay2S"
      },
      "execution_count": null,
      "outputs": []
    }
  ],
  "metadata": {
    "kernelspec": {
      "display_name": "Python 3",
      "language": "python",
      "name": "python3"
    },
    "language_info": {
      "codemirror_mode": {
        "name": "ipython",
        "version": 3
      },
      "file_extension": ".py",
      "mimetype": "text/x-python",
      "name": "python",
      "nbconvert_exporter": "python",
      "pygments_lexer": "ipython3",
      "version": "3.7.12"
    },
    "colab": {
      "provenance": []
    }
  },
  "nbformat": 4,
  "nbformat_minor": 0
}