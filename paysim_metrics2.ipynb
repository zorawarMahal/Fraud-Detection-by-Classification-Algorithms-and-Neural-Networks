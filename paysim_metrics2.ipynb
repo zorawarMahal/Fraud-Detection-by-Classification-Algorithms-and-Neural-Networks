{
  "cells": [
    {
      "cell_type": "markdown",
      "metadata": {
        "id": "jsCyKYtZtqqH"
      },
      "source": [
        "# PaySim-XGboost"
      ]
    },
    {
      "cell_type": "code",
      "execution_count": null,
      "metadata": {
        "_cell_guid": "b1076dfc-b9ad-4769-8c92-a6c4dae69d19",
        "_uuid": "8f2839f25d086af736a60e9eeb907d3b93b6e0e5",
        "id": "jXfpdp3qtqqU",
        "outputId": "5ab6d76c-2155-4a9b-8968-aad366578fab"
      },
      "outputs": [
        {
          "name": "stderr",
          "output_type": "stream",
          "text": [
            "Using TensorFlow backend.\n"
          ]
        }
      ],
      "source": [
        "# Necessary imports\n",
        "\n",
        "## Data loading, processing and for more\n",
        "import pandas as pd\n",
        "import numpy as np\n",
        "from imblearn.over_sampling import SMOTE\n",
        "\n",
        "## Visualization\n",
        "import seaborn as sns\n",
        "import matplotlib.pyplot as plt\n",
        "# set seaborn style because it prettier\n",
        "sns.set()\n",
        "\n",
        "## Metrics & utilities\n",
        "from sklearn.model_selection import train_test_split\n",
        "from sklearn.metrics import roc_curve, auc, \\\n",
        "                            precision_recall_curve, classification_report, \\\n",
        "                            confusion_matrix\n",
        "from sklearn.preprocessing import StandardScaler\n",
        "from sklearn import preprocessing\n",
        "from sklearn.model_selection import train_test_split,GridSearchCV\n",
        "\n",
        "\n",
        "## Models\n",
        "import xgboost as xgb\n",
        "from sklearn.ensemble import RandomForestClassifier\n",
        "from sklearn.ensemble import IsolationForest\n",
        "from sklearn.neighbors import KNeighborsClassifier\n",
        "from sklearn.ensemble import GradientBoostingClassifier\n",
        "from sklearn.linear_model import LogisticRegression, LogisticRegressionCV\n",
        "from sklearn.naive_bayes import GaussianNB"
      ]
    },
    {
      "cell_type": "code",
      "execution_count": null,
      "metadata": {
        "id": "fk4CvQ0ztqqc"
      },
      "outputs": [],
      "source": [
        "import warnings\n",
        "warnings.filterwarnings(\"ignore\", category=DeprecationWarning)"
      ]
    },
    {
      "cell_type": "code",
      "source": [
        "from google.colab import drive\n",
        "drive.mount(\"/content/drive\")"
      ],
      "metadata": {
        "id": "zPUCR3ah3lB1"
      },
      "execution_count": null,
      "outputs": []
    },
    {
      "cell_type": "code",
      "execution_count": null,
      "metadata": {
        "_cell_guid": "79c7e3d0-c299-4dcb-8224-4455121ee9b0",
        "_uuid": "d629ff2d2480ee46fbb7e2d37f6b5fab8052498a",
        "id": "0NQOtpG7tqqe",
        "outputId": "82cb6ae3-4579-46d0-fdbc-24d41ce36a3d"
      },
      "outputs": [
        {
          "name": "stdout",
          "output_type": "stream",
          "text": [
            "raw data shape: (6362620, 11)\n",
            "   step      type      ...        isFraud isFlaggedFraud\n",
            "0     1   PAYMENT      ...              0              0\n",
            "1     1   PAYMENT      ...              0              0\n",
            "2     1  TRANSFER      ...              1              0\n",
            "3     1  CASH_OUT      ...              1              0\n",
            "4     1   PAYMENT      ...              0              0\n",
            "\n",
            "[5 rows x 11 columns]\n",
            "               step        amount       ...             isFraud  isFlaggedFraud\n",
            "count  6.362620e+06  6.362620e+06       ...        6.362620e+06    6.362620e+06\n",
            "mean   2.433972e+02  1.798619e+05       ...        1.290820e-03    2.514687e-06\n",
            "std    1.423320e+02  6.038582e+05       ...        3.590480e-02    1.585775e-03\n",
            "min    1.000000e+00  0.000000e+00       ...        0.000000e+00    0.000000e+00\n",
            "25%    1.560000e+02  1.338957e+04       ...        0.000000e+00    0.000000e+00\n",
            "50%    2.390000e+02  7.487194e+04       ...        0.000000e+00    0.000000e+00\n",
            "75%    3.350000e+02  2.087215e+05       ...        0.000000e+00    0.000000e+00\n",
            "max    7.430000e+02  9.244552e+07       ...        1.000000e+00    1.000000e+00\n",
            "\n",
            "[8 rows x 8 columns]\n",
            "<class 'pandas.core.frame.DataFrame'>\n",
            "RangeIndex: 6362620 entries, 0 to 6362619\n",
            "Data columns (total 11 columns):\n",
            "step              int64\n",
            "type              object\n",
            "amount            float64\n",
            "nameOrig          object\n",
            "oldbalanceOrg     float64\n",
            "newbalanceOrig    float64\n",
            "nameDest          object\n",
            "oldbalanceDest    float64\n",
            "newbalanceDest    float64\n",
            "isFraud           int64\n",
            "isFlaggedFraud    int64\n",
            "dtypes: float64(5), int64(3), object(3)\n",
            "memory usage: 534.0+ MB\n",
            "None\n"
          ]
        }
      ],
      "source": [
        "# Checking data\n",
        "csvfile_path = '/content/drive/MyDrive/PS_log.csv'\n",
        "data = pd.read_csv(csvfile_path)\n",
        "\n",
        "raw_data = data.copy()\n",
        "\n",
        "print (\"raw data shape:\", raw_data.shape)\n",
        "print(raw_data.head())\n",
        "print(raw_data.describe())\n",
        "print(raw_data.info())"
      ]
    },
    {
      "cell_type": "code",
      "execution_count": null,
      "metadata": {
        "id": "tz1XDj3-tqqf"
      },
      "outputs": [],
      "source": [
        "# PR-AUC curve\n",
        "\n",
        "# %% Function for plotting PR_AUC curve\n",
        "def plot_precision_recall(y_test: np.array, y_score: np.array) -> None:\n",
        "    precision, recall, _ = precision_recall_curve(y_test, y_score)\n",
        "    auc_score = auc(recall, precision)\n",
        "\n",
        "    plt.step(recall, precision, color='b', alpha=0.2,\n",
        "             where='post')\n",
        "    plt.fill_between(recall, precision, alpha=0.2, color='b')\n",
        "\n",
        "    plt.xlabel('Recall')\n",
        "    plt.ylabel('Precision')\n",
        "    plt.ylim([0.0, 1.05])\n",
        "    plt.xlim([0.0, 1.05])\n",
        "    plt.title('Precision-Recall curve: AUC={0:0.4f}'.format(auc_score))\n",
        "    plt.show()"
      ]
    },
    {
      "cell_type": "markdown",
      "metadata": {
        "id": "IflM-0-utqqh"
      },
      "source": [
        "# Notebooks"
      ]
    },
    {
      "cell_type": "markdown",
      "metadata": {
        "id": "VBfdBWgjtqqi"
      },
      "source": [
        "## xgboost-auc-0-99831"
      ]
    },
    {
      "cell_type": "code",
      "execution_count": null,
      "metadata": {
        "id": "NM9f_l3Btqqj",
        "outputId": "bce4e270-af34-45d4-b0b8-dae009a46845"
      },
      "outputs": [
        {
          "name": "stderr",
          "output_type": "stream",
          "text": [
            "/opt/conda/lib/python3.6/site-packages/pandas/core/frame.py:3697: SettingWithCopyWarning: \n",
            "A value is trying to be set on a copy of a slice from a DataFrame\n",
            "\n",
            "See the caveats in the documentation: http://pandas.pydata.org/pandas-docs/stable/indexing.html#indexing-view-versus-copy\n",
            "  errors=errors)\n"
          ]
        },
        {
          "name": "stdout",
          "output_type": "stream",
          "text": [
            "data_used shape: (2770409, 8)\n"
          ]
        },
        {
          "data": {
            "text/html": [
              "<div>\n",
              "<style scoped>\n",
              "    .dataframe tbody tr th:only-of-type {\n",
              "        vertical-align: middle;\n",
              "    }\n",
              "\n",
              "    .dataframe tbody tr th {\n",
              "        vertical-align: top;\n",
              "    }\n",
              "\n",
              "    .dataframe thead th {\n",
              "        text-align: right;\n",
              "    }\n",
              "</style>\n",
              "<table border=\"1\" class=\"dataframe\">\n",
              "  <thead>\n",
              "    <tr style=\"text-align: right;\">\n",
              "      <th></th>\n",
              "      <th>type</th>\n",
              "      <th>amount</th>\n",
              "      <th>oldbalanceOrg</th>\n",
              "      <th>newbalanceOrig</th>\n",
              "      <th>oldbalanceDest</th>\n",
              "      <th>newbalanceDest</th>\n",
              "      <th>isFraud</th>\n",
              "      <th>type_code</th>\n",
              "    </tr>\n",
              "  </thead>\n",
              "  <tbody>\n",
              "    <tr>\n",
              "      <th>0</th>\n",
              "      <td>TRANSFER</td>\n",
              "      <td>181.00</td>\n",
              "      <td>181.0</td>\n",
              "      <td>0.0</td>\n",
              "      <td>0.0</td>\n",
              "      <td>0.00</td>\n",
              "      <td>1</td>\n",
              "      <td>1</td>\n",
              "    </tr>\n",
              "    <tr>\n",
              "      <th>1</th>\n",
              "      <td>CASH_OUT</td>\n",
              "      <td>181.00</td>\n",
              "      <td>181.0</td>\n",
              "      <td>0.0</td>\n",
              "      <td>21182.0</td>\n",
              "      <td>0.00</td>\n",
              "      <td>1</td>\n",
              "      <td>0</td>\n",
              "    </tr>\n",
              "    <tr>\n",
              "      <th>2</th>\n",
              "      <td>CASH_OUT</td>\n",
              "      <td>229133.94</td>\n",
              "      <td>15325.0</td>\n",
              "      <td>0.0</td>\n",
              "      <td>5083.0</td>\n",
              "      <td>51513.44</td>\n",
              "      <td>0</td>\n",
              "      <td>0</td>\n",
              "    </tr>\n",
              "    <tr>\n",
              "      <th>3</th>\n",
              "      <td>TRANSFER</td>\n",
              "      <td>215310.30</td>\n",
              "      <td>705.0</td>\n",
              "      <td>0.0</td>\n",
              "      <td>22425.0</td>\n",
              "      <td>0.00</td>\n",
              "      <td>0</td>\n",
              "      <td>1</td>\n",
              "    </tr>\n",
              "    <tr>\n",
              "      <th>4</th>\n",
              "      <td>TRANSFER</td>\n",
              "      <td>311685.89</td>\n",
              "      <td>10835.0</td>\n",
              "      <td>0.0</td>\n",
              "      <td>6267.0</td>\n",
              "      <td>2719172.89</td>\n",
              "      <td>0</td>\n",
              "      <td>1</td>\n",
              "    </tr>\n",
              "  </tbody>\n",
              "</table>\n",
              "</div>"
            ],
            "text/plain": [
              "       type     amount    ...      isFraud  type_code\n",
              "0  TRANSFER     181.00    ...            1          1\n",
              "1  CASH_OUT     181.00    ...            1          0\n",
              "2  CASH_OUT  229133.94    ...            0          0\n",
              "3  TRANSFER  215310.30    ...            0          1\n",
              "4  TRANSFER  311685.89    ...            0          1\n",
              "\n",
              "[5 rows x 8 columns]"
            ]
          },
          "execution_count": 5,
          "metadata": {},
          "output_type": "execute_result"
        }
      ],
      "source": [
        "data_used = raw_data.loc[(raw_data['type'].isin(['TRANSFER', 'CASH_OUT'])),:]\n",
        "data_used.drop(['step', 'nameOrig', 'nameDest', 'isFlaggedFraud'], axis=1, inplace=True)\n",
        "\n",
        "data_used = data_used.reset_index(drop=True)\n",
        "\n",
        "type_encoder = preprocessing.LabelEncoder()\n",
        "type_category = type_encoder.fit_transform(data_used['type'].values)\n",
        "data_used['type_code'] = type_category\n",
        "\n",
        "print (\"data_used shape:\", data_used.shape)\n",
        "data_used.head()"
      ]
    },
    {
      "cell_type": "code",
      "execution_count": null,
      "metadata": {
        "id": "th9_wfoqtqqk",
        "outputId": "223a50ba-55bd-4116-a7be-f1acbc2f2a16"
      },
      "outputs": [
        {
          "name": "stdout",
          "output_type": "stream",
          "text": [
            "      amount  oldbalanceOrg    ...      newbalanceDest  type_code\n",
            "0      181.0          181.0    ...                 0.0          1\n",
            "1      181.0          181.0    ...                 0.0          0\n",
            "123   2806.0         2806.0    ...                 0.0          1\n",
            "124   2806.0         2806.0    ...                 0.0          0\n",
            "192  20128.0        20128.0    ...                 0.0          1\n",
            "\n",
            "[5 rows x 6 columns]\n",
            "--------------------------------------------------------------------------\n",
            "Ratio of nomal:  0.5\n",
            "Ratio of fraud:  0.5\n",
            "Number of data for model:  16426\n"
          ]
        }
      ],
      "source": [
        "# under sample\n",
        "feature_names = ['amount', 'oldbalanceOrg', 'newbalanceOrig', \n",
        "                 'oldbalanceDest', 'newbalanceDest', 'type_code']\n",
        "number_records_fraud = len(data_used[data_used['isFraud'] == 1])\n",
        "\n",
        "#　indices of fraud_indices\n",
        "fraud_indices = data_used[data_used['isFraud'] == 1].index.values\n",
        "\n",
        "#indices of the normal records\n",
        "nonfraud_indices = data_used[data_used['isFraud'] == 0].index\n",
        "\n",
        "random_nonfraud_indices = np.random.choice(nonfraud_indices, number_records_fraud, replace=False)\n",
        "random_nonfraud_indices = np.array(random_nonfraud_indices)\n",
        "\n",
        "under_sample_indices = np.concatenate([fraud_indices, random_nonfraud_indices])\n",
        "under_sample_data = data_used.iloc[under_sample_indices, :]\n",
        "                          \n",
        "print(under_sample_data[feature_names].head())\n",
        "X_undersample = under_sample_data[feature_names].values\n",
        "y_undersample = under_sample_data['isFraud'].values\n",
        "print(\"--------------------------------------------------------------------------\")\n",
        "\n",
        "print(\"Ratio of nomal: \", len(under_sample_data[under_sample_data['isFraud'] == 0]) / len(under_sample_data))\n",
        "print(\"Ratio of fraud: \", len(under_sample_data[under_sample_data['isFraud'] == 1]) / len(under_sample_data))\n",
        "print(\"Number of data for model: \", len(under_sample_data))"
      ]
    },
    {
      "cell_type": "code",
      "execution_count": null,
      "metadata": {
        "id": "67P6NCCbtqqp",
        "outputId": "1b89d46a-c497-46e6-b39b-447202df9367"
      },
      "outputs": [
        {
          "name": "stdout",
          "output_type": "stream",
          "text": [
            "      amount  oldbalanceOrg    ...      newbalanceDest  type_code\n",
            "0     181.00          181.0    ...                0.00          1\n",
            "1     181.00          181.0    ...                0.00          0\n",
            "2  229133.94        15325.0    ...            51513.44          0\n",
            "3  215310.30          705.0    ...                0.00          1\n",
            "4  311685.89        10835.0    ...          2719172.89          1\n",
            "\n",
            "[5 rows x 6 columns] \n",
            "\n",
            "0    1\n",
            "1    1\n",
            "2    0\n",
            "3    0\n",
            "4    0\n",
            "Name: isFraud, dtype: int64\n"
          ]
        }
      ],
      "source": [
        "X = data_used.drop(['isFraud', 'type'],axis=1)\n",
        "y = data_used['isFraud']\n",
        "print(X.head(),\"\\n\")\n",
        "print(y.head())"
      ]
    },
    {
      "cell_type": "code",
      "execution_count": null,
      "metadata": {
        "id": "_kny55O3tqqq"
      },
      "outputs": [],
      "source": [
        "X_train, X_test, y_train, y_test = train_test_split(X, y, test_size=0.3, random_state=42)"
      ]
    },
    {
      "cell_type": "markdown",
      "metadata": {
        "id": "slT7I8V6tqqs"
      },
      "source": [
        "#### XGBoost"
      ]
    },
    {
      "cell_type": "code",
      "execution_count": null,
      "metadata": {
        "id": "8ggkHdU6tqqs"
      },
      "outputs": [],
      "source": [
        "XGBoost_CLF = xgb.XGBClassifier(learning_rate =0.1, n_estimators=100, max_depth=6, min_child_weight=1,  \n",
        "                  gamma=0, subsample=0.8, colsample_bytree=0.8, objective= 'binary:logistic', \n",
        "                  nthread=4, scale_pos_weight=1, seed=42)"
      ]
    },
    {
      "cell_type": "code",
      "execution_count": null,
      "metadata": {
        "id": "xgB80Mectqqs"
      },
      "outputs": [],
      "source": [
        "XGBoost_CLF.fit(X_train, y_train)\n",
        "y_pred = XGBoost_CLF.predict(X_test)"
      ]
    },
    {
      "cell_type": "code",
      "execution_count": null,
      "metadata": {
        "id": "rt1lM5rhtqqt",
        "outputId": "a9a27642-071b-4f4a-d2e3-c047c52ee99a"
      },
      "outputs": [
        {
          "name": "stdout",
          "output_type": "stream",
          "text": [
            "Classification Report for XGBoost Classifier: \n",
            "               precision    recall  f1-score   support\n",
            "\n",
            "           0       1.00      1.00      1.00    828627\n",
            "           1       0.99      0.72      0.83      2496\n",
            "\n",
            "   micro avg       1.00      1.00      1.00    831123\n",
            "   macro avg       0.99      0.86      0.92    831123\n",
            "weighted avg       1.00      1.00      1.00    831123\n",
            "\n",
            "Confusion Matrix of XGBoost Classifier: \n",
            " [[828601     26]\n",
            " [   693   1803]]\n"
          ]
        },
        {
          "data": {
            "image/png": "[encoded data removed]",
            "text/plain": [
              "<Figure size 432x288 with 1 Axes>"
            ]
          },
          "metadata": {},
          "output_type": "display_data"
        }
      ],
      "source": [
        "print(\"Classification Report for XGBoost Classifier: \\n\", classification_report(y_test, y_pred))\n",
        "print(\"Confusion Matrix of XGBoost Classifier: \\n\", confusion_matrix(y_test, y_pred))\n",
        "plot_precision_recall(y_test, XGBoost_CLF.predict_proba(X_test)[:,1])"
      ]
    },
    {
      "cell_type": "markdown",
      "metadata": {
        "id": "xzNpr7EWtqqt"
      },
      "source": [
        "## simple-prediction"
      ]
    },
    {
      "cell_type": "code",
      "execution_count": null,
      "metadata": {
        "id": "y-WD_5l3tqqu"
      },
      "outputs": [],
      "source": [
        "meta_data = pd.read_csv(\"/content/drive/MyDrive/PS_log.csv\")\n",
        "del meta_data['nameDest']\n",
        "del meta_data['nameOrig']\n",
        "del meta_data['type']"
      ]
    },
    {
      "cell_type": "code",
      "execution_count": null,
      "metadata": {
        "id": "BgUqxvRjtqqu"
      },
      "outputs": [],
      "source": [
        "Cols = meta_data[['step','amount','oldbalanceOrg','newbalanceOrig','oldbalanceDest','newbalanceDest','isFlaggedFraud']]\n",
        "y = meta_data['isFraud']\n",
        "X = Cols"
      ]
    },
    {
      "cell_type": "code",
      "execution_count": null,
      "metadata": {
        "id": "HuGrBgJJtqqu"
      },
      "outputs": [],
      "source": [
        "X_train, X_test, y_train, y_test = train_test_split(X, y, test_size=0.3, random_state=42)"
      ]
    },
    {
      "cell_type": "markdown",
      "metadata": {
        "id": "kVPePWkNtqqx"
      },
      "source": [
        "## predicting-fraud-in-financial-payment-services"
      ]
    },
    {
      "cell_type": "code",
      "execution_count": null,
      "metadata": {
        "id": "EouLIC4Etqqx",
        "outputId": "19e755b2-3f55-4f70-8938-fefbb4b01fea"
      },
      "outputs": [
        {
          "name": "stdout",
          "output_type": "stream",
          "text": [
            "   step      type      ...        isFraud isFlaggedFraud\n",
            "0     1   PAYMENT      ...              0              0\n",
            "1     1   PAYMENT      ...              0              0\n",
            "2     1  TRANSFER      ...              1              0\n",
            "3     1  CASH_OUT      ...              1              0\n",
            "4     1   PAYMENT      ...              0              0\n",
            "\n",
            "[5 rows x 11 columns]\n"
          ]
        }
      ],
      "source": [
        "df = pd.read_csv(\"\")\n",
        "df = df.rename(columns={'oldbalanceOrg':'oldBalanceOrig', 'newbalanceOrig':'newBalanceOrig', \\\n",
        "                        'oldbalanceDest':'oldBalanceDest', 'newbalanceDest':'newBalanceDest'})\n",
        "print(df.head())"
      ]
    },
    {
      "cell_type": "code",
      "execution_count": null,
      "metadata": {
        "id": "5lw-qS07tqqy"
      },
      "outputs": [],
      "source": [
        "X.loc[(X.oldBalanceOrig == 0) & (X.newBalanceOrig == 0) & (X.amount != 0), \\\n",
        "      ['oldBalanceOrig', 'newBalanceOrig']] = np.nan"
      ]
    },
    {
      "cell_type": "code",
      "execution_count": null,
      "metadata": {
        "id": "h51xkzUitqqz"
      },
      "outputs": [],
      "source": [
        "X['errorBalanceOrig'] = X.newBalanceOrig + X.amount - X.oldBalanceOrig\n",
        "X['errorBalanceDest'] = X.oldBalanceDest + X.amount - X.newBalanceDest"
      ]
    },
    {
      "cell_type": "code",
      "execution_count": null,
      "metadata": {
        "id": "fPYxFdWftqqz"
      },
      "outputs": [],
      "source": [
        "trainX, testX, trainY, testY = train_test_split(X, Y, test_size = 0.2, \\\n",
        "                                                random_state = randomState)"
      ]
    },
    {
      "cell_type": "markdown",
      "metadata": {
        "id": "qIzLs6g9tqqz"
      },
      "source": [
        "#### XGB classifier"
      ]
    },
    {
      "cell_type": "code",
      "execution_count": null,
      "metadata": {
        "id": "X-e0RHU-tqqz"
      },
      "outputs": [],
      "source": [
        "# Long computation in this cell (~1.8 minutes)\n",
        "weights = (Y == 0).sum() / (1.0 * (Y == 1).sum())\n",
        "clf = xgb.XGBClassifier(max_depth = 3, scale_pos_weight = weights, \\\n",
        "                n_jobs = 4)\n",
        "clf.fit(trainX, trainY)\n",
        "\n",
        "y_pred = clf.predict(testX)"
      ]
    },
    {
      "cell_type": "code",
      "execution_count": null,
      "metadata": {
        "id": "FcP0Wrnttqq0",
        "outputId": "de312c07-8b27-4838-deaf-bbe3a9d6d936"
      },
      "outputs": [
        {
          "name": "stdout",
          "output_type": "stream",
          "text": [
            "Classification Report for XGBoost Classifier: \n",
            "               precision    recall  f1-score   support\n",
            "\n",
            "           0       1.00      1.00      1.00    552412\n",
            "           1       0.90      1.00      0.95      1670\n",
            "\n",
            "   micro avg       1.00      1.00      1.00    554082\n",
            "   macro avg       0.95      1.00      0.97    554082\n",
            "weighted avg       1.00      1.00      1.00    554082\n",
            "\n",
            "Confusion Matrix of XGBoost Classifier: \n",
            " [[552237    175]\n",
            " [     3   1667]]\n"
          ]
        },
        {
          "data": {
            "image/png": "[encoded data removed]",
            "text/plain": [
              "<Figure size 432x288 with 1 Axes>"
            ]
          },
          "metadata": {},
          "output_type": "display_data"
        }
      ],
      "source": [
        "print(\"Classification Report for XGBoost Classifier: \\n\", classification_report(testY, y_pred))\n",
        "print(\"Confusion Matrix of XGBoost Classifier: \\n\", confusion_matrix(testY, y_pred))\n",
        "plot_precision_recall(testY, clf.predict_proba(testX)[:,1])"
      ]
    }
  ],
  "metadata": {
    "kernelspec": {
      "display_name": "Python 3",
      "language": "python",
      "name": "python3"
    },
    "language_info": {
      "codemirror_mode": {
        "name": "ipython",
        "version": 3
      },
      "file_extension": ".py",
      "mimetype": "text/x-python",
      "name": "python",
      "nbconvert_exporter": "python",
      "pygments_lexer": "ipython3",
      "version": "3.6.4"
    },
    "colab": {
      "provenance": []
    }
  },
  "nbformat": 4,
  "nbformat_minor": 0
}